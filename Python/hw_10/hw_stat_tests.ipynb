{
 "cells": [
  {
   "cell_type": "markdown",
   "metadata": {},
   "source": [
    "# Домашняя работа №2"
   ]
  },
  {
   "cell_type": "code",
   "execution_count": 163,
   "metadata": {},
   "outputs": [],
   "source": [
    "import pandas as pd\n",
    "from scipy import stats\n",
    "import numpy as np\n",
    "from scipy.stats import t\n",
    "\n",
    "import seaborn as sns\n",
    "from sklearn import datasets\n",
    "from matplotlib import pyplot as plt\n",
    "from statsmodels.distributions.empirical_distribution import ECDF"
   ]
  },
  {
   "cell_type": "markdown",
   "metadata": {},
   "source": [
    "## Генеральная совокупность и выборка"
   ]
  },
  {
   "cell_type": "markdown",
   "metadata": {},
   "source": [
    "- Чем отличается генеральная совокупность от выборки?"
   ]
  },
  {
   "cell_type": "markdown",
   "metadata": {},
   "source": [
    "Генеральная совокупность - это все существующие значения. Статистическая выборка - случайно выбранное подмножество генеральной совокупности."
   ]
  },
  {
   "cell_type": "markdown",
   "metadata": {},
   "source": [
    "- Если размер выборки больше 200, то такая выборка является репрезентативной?"
   ]
  },
  {
   "cell_type": "markdown",
   "metadata": {},
   "source": [
    "Нельзя ответить однозначно. Все сильно зависит от размера генеральной совокупности, а так же от способа формирования случайной выборки.\n",
    "Оценка репрезентативности выборки осуществляется в тесной связи с предметом исследования. "
   ]
  },
  {
   "cell_type": "markdown",
   "metadata": {},
   "source": [
    "- Измерили длину волос футболистов сборной Франции на ЧМ-2018. Что могло являться генеральной совокупностью? Приведите 3 примера."
   ]
  },
  {
   "cell_type": "markdown",
   "metadata": {},
   "source": [
    "1. Длина волос футболистов в плей-офф ЧМ-2018.\n",
    "2. Длина волос футболистов фрунцузов.\n",
    "3. Длина волос футболистов французов выходивших в финал ЧМ с 1998 года."
   ]
  },
  {
   "cell_type": "markdown",
   "metadata": {},
   "source": [
    "- Пусть генеральная совокупность --- вес детей, родившихся в Волгограде за последние 10 лет. Предложите 2 стратегии, как сгенерировать выборку."
   ]
  },
  {
   "cell_type": "markdown",
   "metadata": {},
   "source": [
    "1. Берем по n детей из каждого месяца, каждого года, начиная с момента исследования.\n",
    "2. За каждый год берем по n результатов из каждого родильного дома Волгограда."
   ]
  },
  {
   "cell_type": "markdown",
   "metadata": {},
   "source": [
    "## Параметры центра и разброса"
   ]
  },
  {
   "cell_type": "markdown",
   "metadata": {},
   "source": [
    "- Постройте распределение, у которого отсутствует мода.\n"
   ]
  },
  {
   "cell_type": "code",
   "execution_count": 3,
   "metadata": {},
   "outputs": [
    {
     "data": {
      "image/png": "[encoded data removed]",
      "text/plain": [
       "<Figure size 432x288 with 1 Axes>"
      ]
     },
     "metadata": {
      "needs_background": "light"
     },
     "output_type": "display_data"
    }
   ],
   "source": [
    "#uniform distribution\n",
    "x = np.linspace(stats.uniform.ppf(0.01), stats.uniform.ppf(0.99), 100)\n",
    "fig, ax = plt.subplots(1, 1)\n",
    "ax.plot(x, stats.uniform.pdf(x), 'r-', lw=5, alpha=0.6, label='uniform pdf')\n",
    "r = stats.uniform.rvs(size=1000)\n",
    "ax.hist(r, density=True, histtype='stepfilled', alpha=0.2)\n",
    "ax.legend(loc='best', frameon=False)\n",
    "plt.show()"
   ]
  },
  {
   "cell_type": "markdown",
   "metadata": {},
   "source": [
    "- Какая из статистик (медиана, матожидание) будет наиболее неустойчивой при выбросах? Проверить на выборке из Гамма-распределения. "
   ]
  },
  {
   "cell_type": "code",
   "execution_count": 4,
   "metadata": {},
   "outputs": [
    {
     "name": "stdout",
     "output_type": "stream",
     "text": [
      "Median 3.6700688513685678 Overshoot median 3.7288857062603222\n",
      "Mean 3.9390977336859576 Oveshoot mean 6.834436080326978\n"
     ]
    }
   ],
   "source": [
    "gamma_rv = stats.gamma(3, 1)\n",
    "sample = gamma_rv.rvs(51)\n",
    "med = np.median(sample)\n",
    "mean = sample.mean()\n",
    "\n",
    "#your code here\n",
    "overshoot = np.array([10, -11, 132, 44])\n",
    "sample_with_overshoot = np.concatenate((sample, overshoot))\n",
    "new_med = np.median(sample_with_overshoot)\n",
    "new_mean = sample_with_overshoot.mean()\n",
    "print(f'Median {med}', f'Overshoot median {new_med}')\n",
    "print(f'Mean {mean}', f'Oveshoot mean {new_mean}')\n",
    "# медиана - робастная (устойчивая), среднее - нет\n"
   ]
  },
  {
   "cell_type": "markdown",
   "metadata": {},
   "source": [
    "- Как изменится матожидание, если к выборке добавить константу $C$? Умножить на $C$. \n",
    "\n",
    "Проверите на выборке из распределения Пуассона"
   ]
  },
  {
   "cell_type": "code",
   "execution_count": 72,
   "metadata": {},
   "outputs": [
    {
     "name": "stdout",
     "output_type": "stream",
     "text": [
      "Mean 1.99 Mean with const 2.49 Mean of multiplied by const sample 0.995\n"
     ]
    }
   ],
   "source": [
    "pois_rv = stats.poisson(2)\n",
    "sample = pois_rv.rvs(100)\n",
    "C = 0.5\n",
    "#your code here\n",
    "mean = sample.mean()\n",
    "mean_with_c = np.array([x + C for x in sample]).mean()\n",
    "mean_mult_c = np.array([x * C for x in sample]).mean()\n",
    "print(f'Mean {mean}', f'Mean with const {mean_with_c}', f'Mean of multiplied by const sample {mean_mult_c}')\n"
   ]
  },
  {
   "cell_type": "markdown",
   "metadata": {},
   "source": [
    "Таким образом, добавление константы к выборке эквивалентно добавлению этой константы к среднему, а умножение на константу - эквивалентно умножению среднего на эту константу."
   ]
  },
  {
   "cell_type": "markdown",
   "metadata": {},
   "source": [
    "- Как изменится дисперсия при добавлении выбросов? Проверьте для распределения экспоненциального распределения"
   ]
  },
  {
   "cell_type": "code",
   "execution_count": 73,
   "metadata": {},
   "outputs": [
    {
     "name": "stdout",
     "output_type": "stream",
     "text": [
      "Variance 1.2581670796253221, variance with overshoot 25.31650402213482\n"
     ]
    }
   ],
   "source": [
    "exp_rv = stats.expon(4)\n",
    "sample = exp_rv.rvs(50)\n",
    "var = sample.var()\n",
    "\n",
    "#your code here\n",
    "overshoot = np.array([10, -10, 15, 25, 30, 11])\n",
    "sample_with_overshoot = np.concatenate((sample, overshoot))\n",
    "new_var = sample_with_overshoot.var()\n",
    "print(f'Variance {var}, variance with overshoot {new_var}')\n",
    "\n",
    "# Таким образом, при добавлении выбросов, размах случайной величины увеличивается, что ведет и росту дисперсии"
   ]
  },
  {
   "cell_type": "markdown",
   "metadata": {},
   "source": [
    "- Что шире: интерквантильный размах ($X_{0.75} - X_{0.25}$) или $(\\bar{X}-s, \\bar{X}+s)$ для $\\mathcal{N}(a, \\sigma^2)$. Посчитайте и сравните эти интервалы для распредения $\\mathcal{N}(3,1)$"
   ]
  },
  {
   "cell_type": "code",
   "execution_count": 38,
   "metadata": {},
   "outputs": [
    {
     "name": "stdout",
     "output_type": "stream",
     "text": [
      "Percentile range 1.376358154909921, statistics range 2.0756014409515275\n",
      "Sample elements in percentile interval 500, sample elems in statistics interval 702\n"
     ]
    }
   ],
   "source": [
    "norm_rv = stats.norm(3,1)\n",
    "sample = norm_rv.rvs(1000)\n",
    "\n",
    "#your code here\n",
    "percentile_range = np.percentile(sample, 75) - np.percentile(sample, 25)\n",
    "\n",
    "var = sample.var()\n",
    "mean = sample.mean()\n",
    "statistics_range = (mean + var) - (mean - var)\n",
    "print(f'Percentile range {percentile_range}, statistics range {statistics_range}')\n",
    "\n",
    "# check yourself\n",
    "# estimate number of values, which are in quantile interval and in statistics interval\n",
    "percentile_vals = []\n",
    "statistics_vals = []\n",
    "[ statistics_vals.append(val) for val in sample if (mean - var) <= val <= (mean + var) ]\n",
    "[ percentile_vals.append(val) for val in sample if np.percentile(sample, 25) <= val <= np.percentile(sample, 75) ]\n",
    "\n",
    "print(f'Sample elements in percentile interval {len(percentile_vals)}, sample elems in statistics interval {len(statistics_vals)}')\n"
   ]
  },
  {
   "cell_type": "markdown",
   "metadata": {},
   "source": [
    "Таким образом, интерквантильный размах $( X_{0.75} − X_{0.25} )$ уже, чем $(\\bar{X} - s, \\bar{X} + s)$"
   ]
  },
  {
   "cell_type": "markdown",
   "metadata": {},
   "source": [
    "## Основные статистики и ЦПТ"
   ]
  },
  {
   "cell_type": "markdown",
   "metadata": {},
   "source": [
    "- Что такое статистика? Посчитайте любую для бета-распределения (1,3)"
   ]
  },
  {
   "cell_type": "code",
   "execution_count": 97,
   "metadata": {},
   "outputs": [
    {
     "name": "stdout",
     "output_type": "stream",
     "text": [
      "Mean val: 0.24528100867268635, Variance: 0.0366859206736384\n"
     ]
    }
   ],
   "source": [
    "# Основные статистики - это основные статистические показатели, характеризующие выборку\n",
    "# в данном случае выборочное среднее, выборочная дисперсия\n",
    "beta_rv = stats.beta(1,3)\n",
    "\n",
    "#your code here\n",
    "vals = beta_rv.rvs(1000)\n",
    "mean = vals.mean()\n",
    "var = vals.var()\n",
    "print(f'Mean val: {mean}, Variance: {var}')"
   ]
  },
  {
   "cell_type": "markdown",
   "metadata": {},
   "source": [
    "- Какие статистики являются оценками матожидания, медианы и дисперсии? Посчитайте их для гамма-распределения с параметрами (2, 2)"
   ]
  },
  {
   "cell_type": "markdown",
   "metadata": {},
   "source": [
    "Оценка матожидания - выборочное среднее\n",
    "\n",
    "Оценка медианы - средний элемент выборки, отсортированной в порядке возрастания (если кол-во элементов нечетное), либо среднее арифметическое двух соседних средних элементов, если кол-ыо элементов в выборке четное\n",
    "\n",
    "Оценка дисперсии - выборочная дисперсия"
   ]
  },
  {
   "cell_type": "code",
   "execution_count": 40,
   "metadata": {},
   "outputs": [
    {
     "name": "stdout",
     "output_type": "stream",
     "text": [
      "Mean val: 3.962715176852902, Variance: 2.0367598853060067, Median: 2.3353088618992013\n"
     ]
    }
   ],
   "source": [
    "gamma_rv = stats.gamma(2,2)\n",
    "\n",
    "#your code here\n",
    "sample = gamma_rv.rvs(1000)\n",
    "mean = sample.mean()\n",
    "var = sample.var()\n",
    "\n",
    "sorted_sample = sorted(sample)\n",
    "med = (sorted_sample[49] + sorted_sample[50])/2\n",
    "\n",
    "print(f'Mean val: {mean}, Variance: {var}, Median: {med}')"
   ]
  },
  {
   "cell_type": "markdown",
   "metadata": {},
   "source": [
    "- Какое распределение имеет $\\bar{X}$ по ЦПТ? Если исходное распределение $\\mathcal{N}(5, 2)$. Сгенерировать выборки размером 50 из этого распределения и проверить. (построить распределение средних)"
   ]
  },
  {
   "cell_type": "code",
   "execution_count": 119,
   "metadata": {},
   "outputs": [
    {
     "name": "stdout",
     "output_type": "stream",
     "text": [
      "Means mean: 4.997636407864696, means variance 0.07944410455865383, std err 0.011235093011743448\n"
     ]
    },
    {
     "data": {
      "image/png": "[encoded data removed]",
      "text/plain": [
       "<Figure size 432x288 with 1 Axes>"
      ]
     },
     "metadata": {
      "needs_background": "light"
     },
     "output_type": "display_data"
    }
   ],
   "source": [
    "#your code here\n",
    "norm_rv = stats.norm(5, 2)\n",
    "\n",
    "means = []\n",
    "for i in range(10000):\n",
    "    sample = norm_rv.rvs(50)\n",
    "    means.append(sample.mean())\n",
    "\n",
    "means = np.array(means)\n",
    "means_mean = means.mean()\n",
    "means_var = means.var() \n",
    "std_err = means_var ** .5 / 50 ** .5 # т.к. это means_var = s^2, тогда SE = means_var ^ 0.5 / n ^ 0.5\n",
    "print(f'Means mean: {means_mean}, means variance {means_var}, std err {std_err}')\n",
    "\n",
    "plt.hist(means, density=True)\n",
    "plt.show()"
   ]
  },
  {
   "cell_type": "markdown",
   "metadata": {},
   "source": [
    "$\\bar{X}$ будет иметь распределение $\\mathcal{N}(M,SE)$, где $M \\approx  5$ (матожидание генеральной совокупности), SE - стандартная ошибка средних, $SE \\approx 0.04 $.  "
   ]
  },
  {
   "cell_type": "markdown",
   "metadata": {},
   "source": [
    "- Сгенерируйте выборки так, чтобы ЦПТ не выполнялось (распределение средних не было похоже нормальное)"
   ]
  },
  {
   "cell_type": "code",
   "execution_count": 167,
   "metadata": {},
   "outputs": [
    {
     "data": {
      "image/png": "[encoded data removed]",
      "text/plain": [
       "<Figure size 432x288 with 1 Axes>"
      ]
     },
     "metadata": {
      "needs_background": "light"
     },
     "output_type": "display_data"
    }
   ],
   "source": [
    "# Для того, чтобы ЦПТ не выполнялось, наши выборки должны быть не однородными,\n",
    "# т.е. случайные величины не были распределены одинаково\n",
    "norm_1 = stats.norm(5, 2)\n",
    "norm_2 = stats.norm(2, 1)\n",
    "\n",
    "means = []\n",
    "for i in range(15):\n",
    "    sample = norm_1.rvs(10)\n",
    "    means.append(sample.mean())\n",
    "\n",
    "plt.hist(means, density=True)\n",
    "plt.show()\n",
    "\n",
    "# Как мы видим в результате, распределение средних совсем не похоже на нормальное распределение"
   ]
  },
  {
   "cell_type": "markdown",
   "metadata": {},
   "source": [
    "- Сделайте z-преобразование для данного распределения и посчитайте новое матожидание и дисперсию "
   ]
  },
  {
   "cell_type": "code",
   "execution_count": 106,
   "metadata": {},
   "outputs": [
    {
     "name": "stdout",
     "output_type": "stream",
     "text": [
      "New mean: 0.0, new var: 1.0\n"
     ]
    }
   ],
   "source": [
    "expon_rv = stats.expon(3)\n",
    "\n",
    "sample = expon_rv.rvs(100)\n",
    "mean = sample.mean()\n",
    "var = sample.var() ** .5\n",
    "\n",
    "new_rv = []\n",
    "[ new_rv.append((val - mean)/var) for val in sample ]\n",
    "\n",
    "new_rv = np.array(new_rv)\n",
    "new_mean = round(new_rv.mean(), 3)\n",
    "new_var = new_rv.var() ** .5\n",
    "\n",
    "print(f'New mean: {new_mean}, new var: {new_var}')"
   ]
  },
  {
   "cell_type": "markdown",
   "metadata": {},
   "source": [
    "## Доверительные интервалы и гипотезы"
   ]
  },
  {
   "cell_type": "markdown",
   "metadata": {},
   "source": [
    "В данных задачах используйте встроенную функцию, позволяющую искать квантили случайной величины **your_rv**.ppf, а также https://gallery.shinyapps.io/dist_calc/ для визуальной картины"
   ]
  },
  {
   "cell_type": "markdown",
   "metadata": {},
   "source": [
    "- Постройте 90% доверительный интервал для среднего значения $\\mathcal{\\chi^2_{10}}$."
   ]
  },
  {
   "cell_type": "code",
   "execution_count": 160,
   "metadata": {},
   "outputs": [
    {
     "name": "stdout",
     "output_type": "stream",
     "text": [
      "chi2 90% interval: (0, 15.987179172105263)\n"
     ]
    }
   ],
   "source": [
    "from scipy.stats import chi2\n",
    "\n",
    "df = 10\n",
    "print(f'chi2 90% interval: (0, {chi2.ppf(0.9, df)})')"
   ]
  },
  {
   "cell_type": "markdown",
   "metadata": {},
   "source": [
    "- Постройте ДИ для распределения Стьюдента с df = 15 уровня доверия 90%  и 95%. Какой интервал шире?"
   ]
  },
  {
   "cell_type": "code",
   "execution_count": 157,
   "metadata": {},
   "outputs": [
    {
     "name": "stdout",
     "output_type": "stream",
     "text": [
      "t 90% interval: (-1.7530503556925552, 1.7530503556925547)\n",
      "t 95% interval: (-2.131449545559323, 2.131449545559323)\n",
      "Percent of values in 90% intereval: 90%\n"
     ]
    }
   ],
   "source": [
    "df = 15\n",
    "\n",
    "print(f't 90% interval: ({t.ppf(0.05, df)}, {t.ppf(0.95, df)})')\n",
    "print(f't 95% interval: ({t.ppf(0.025, df)}, {t.ppf(0.975, df)})')\n",
    "#95% интервал - шире\n",
    "\n",
    "# проверим себя\n",
    "t1 = t(df)\n",
    "sample = t1.rvs(1000)\n",
    "vals = []\n",
    "[vals.append(val) for val in sample if t.ppf(0.05, df) <= val <= t.ppf(0.95, df)]\n",
    "print(f'Percent of values in 90% intereval: {round(len(vals)/1000 * 100)}%')"
   ]
  },
  {
   "cell_type": "markdown",
   "metadata": {},
   "source": [
    "- Сгенерируйте 2 выборки с одинаковыми параметрами, отличающиеся в 2 раза по размеру. Постройте 2 90% ДИ. Чем они отличаются? Распределение $\\mathcal{N}(0,2)$ "
   ]
  },
  {
   "cell_type": "code",
   "execution_count": 192,
   "metadata": {},
   "outputs": [
    {
     "name": "stdout",
     "output_type": "stream",
     "text": [
      "Interval 90% for smaller sample: (-3.1550218760694446, 3.2628344866129306)\n",
      "Interval 90% for bigger sample: (-3.2658626915593203, 3.3186677448543924)\n",
      "Bigger sample interval is wider and more accurate!\n"
     ]
    }
   ],
   "source": [
    "norm_rv = stats.norm(0, 2)\n",
    "\n",
    "sample_smaller = norm_rv.rvs(5000)\n",
    "sample_bigger = norm_rv.rvs(10000)\n",
    "\n",
    "res = np.percentile(sample_smaller, 5)\n",
    "res2 = np.percentile(sample_smaller, 95)\n",
    "print(f'Interval 90% for smaller sample: ({res}, {res2})')\n",
    "\n",
    "res = np.percentile(sample_bigger, 5)\n",
    "res2 = np.percentile(sample_bigger, 95)\n",
    "print(f'Interval 90% for bigger sample: ({res}, {res2})')\n",
    "print('Bigger sample interval is wider and more accurate!')\n"
   ]
  },
  {
   "cell_type": "markdown",
   "metadata": {},
   "source": [
    "- Пусть $H_0: M=100$. Мы получили $p = 0,12$ и не смогли отклонить нулевую гипотезу. Однако позже выяснилось, что среднее в генеральной совокупности равняется 114. Ошибку какого рода мы допустили?"
   ]
  },
  {
   "cell_type": "markdown",
   "metadata": {},
   "source": [
    "Мы получили ошибку второго рода, так как гипотеза неверно принята"
   ]
  },
  {
   "cell_type": "markdown",
   "metadata": {},
   "source": [
    "#### Какие рассуждения относительно p-value верные?\n",
    "\n",
    "- Если p уровень значимости равен 0,003, то вероятность того, что верна нулевая гипотеза также равняется  0,003.\n",
    "- Если бы в исследовании мы получили $p=0,9$, это означало бы, что верна нулевая гипотеза.\n",
    "- Чем меньше p уровень значимости, тем хуже гипотеза.\n"
   ]
  },
  {
   "cell_type": "markdown",
   "metadata": {},
   "source": [
    "- Елси p уровень значимости равен 0,003, то вероятность того, что верна нулевая гипотеза также равняется 0,003.\n",
    "\n",
    "*Нет, неверно, т.к. это вероятность отклонить нулевую гипотезу, когда на самом деле она верна.*\n",
    "\n",
    "- Если бы в исследовании мы получили $p=0,9$, это означало бы, что верна нулевая гипотеза.\n",
    "\n",
    "*Неверное отверждение, мы лишь можем сказать, что не можем отвергуть данную гипотезу.*\n",
    "\n",
    "- Чем меньше p уровень значимости, тем хуже гипотеза.\n",
    "\n",
    "*не совсем верно, уменьшение p-value ведется к увеличению вероятности возникновения ошибки второго рода*"
   ]
  },
  {
   "cell_type": "markdown",
   "metadata": {},
   "source": [
    "- Какое $p$-value будете использовать, если отклонять $H_0$ рисковано: $0.05$ или $0.01$? Является ли 99% доверительный интервал хорошей оценкой в общем случае?"
   ]
  },
  {
   "cell_type": "markdown",
   "metadata": {},
   "source": [
    "Если, рисковано отклонять, то 0.01\n",
    "В общем случае скорее нет, так как он слишком общий"
   ]
  },
  {
   "cell_type": "markdown",
   "metadata": {},
   "source": [
    "## Стьюдент и корреляция"
   ]
  },
  {
   "cell_type": "markdown",
   "metadata": {},
   "source": [
    "- Изобразите графики плотности распределения Стьюдента для нескольких значений df= (5,10, 20, 40) и $\\mathcal{N}(0,1)$. В чем отличия?"
   ]
  },
  {
   "cell_type": "code",
   "execution_count": 6,
   "metadata": {},
   "outputs": [
    {
     "data": {
      "image/png": "[encoded data removed]",
      "text/plain": [
       "<Figure size 432x288 with 1 Axes>"
      ]
     },
     "metadata": {
      "needs_background": "light"
     },
     "output_type": "display_data"
    }
   ],
   "source": [
    "t5 = t(df=5).rvs(1000)\n",
    "t10 = t(10).rvs(1000)\n",
    "t20 = t(20).rvs(1000)\n",
    "t40 = t(40).rvs(1000)\n",
    "norm = stats.norm(0, 1).rvs(1000)\n",
    "\n",
    "fig, ax = plt.subplots(1, 1)\n",
    "    \n",
    "ax.hist(t5, histtype='stepfilled', label='t5')\n",
    "ax.hist(t10, histtype='stepfilled', label='t10')\n",
    "ax.hist(t20, histtype='stepfilled', label='t20')\n",
    "ax.hist(t40, histtype='stepfilled', label='t40')\n",
    "ax.hist(norm, histtype='stepfilled', label='n(0, 1)')\n",
    "ax.legend(loc='best', frameon=False)\n",
    "plt.show()\n",
    "\n",
    "# Отличие в том, что чем больше степеней свободы\n",
    "# тем ближе мы к нормальному распределению с параметрами (0, 1) и тем кучнее распределены случайные значения"
   ]
  },
  {
   "cell_type": "markdown",
   "metadata": {},
   "source": [
    "- Постройте две выборки, чтобы их корреляция была равна -1. Изобразите зависимость на графике."
   ]
  },
  {
   "cell_type": "code",
   "execution_count": 24,
   "metadata": {},
   "outputs": [
    {
     "name": "stdout",
     "output_type": "stream",
     "text": [
      "Corr matrix:\n",
      " [[ 1. -1.]\n",
      " [-1.  1.]]\n"
     ]
    },
    {
     "data": {
      "text/plain": [
       "<seaborn.axisgrid.PairGrid at 0x1a1c72b940>"
      ]
     },
     "execution_count": 24,
     "metadata": {},
     "output_type": "execute_result"
    },
    {
     "data": {
      "image/png": "[encoded data removed]",
      "text/plain": [
       "<Figure size 360x360 with 6 Axes>"
      ]
     },
     "metadata": {
      "needs_background": "light"
     },
     "output_type": "display_data"
    }
   ],
   "source": [
    "# реализуем линейную зависимость между выборками с отриц. коэфф. \n",
    "def some_foo(var):\n",
    "    return var * (-2) + 10\n",
    "\n",
    "norm = stats.norm(5, 2)\n",
    "\n",
    "sample1 = norm.rvs(1000)\n",
    "sample2 = []\n",
    "[sample2.append(some_foo(val)) for val in sample1]\n",
    "\n",
    "df1 = pd.DataFrame()\n",
    "df1['first_sample'] = pd.Series(sample1)\n",
    "df1['second_sample'] = pd.Series(sample2)\n",
    "\n",
    "print(f\"Corr matrix:\\n {np.corrcoef(sample1, np.array(sample2))}\")\n",
    "\n",
    "sns.pairplot(df1)"
   ]
  },
  {
   "cell_type": "markdown",
   "metadata": {},
   "source": [
    "- Постройте две выборки, чтобы их корреляция была равна 0. Изобразите зависимость на графике."
   ]
  },
  {
   "cell_type": "code",
   "execution_count": 118,
   "metadata": {},
   "outputs": [
    {
     "name": "stdout",
     "output_type": "stream",
     "text": [
      "Corr matrix:\n",
      " [[1. 0.]\n",
      " [0. 1.]]\n"
     ]
    },
    {
     "data": {
      "text/plain": [
       "<seaborn.axisgrid.PairGrid at 0x1a227267b8>"
      ]
     },
     "execution_count": 118,
     "metadata": {},
     "output_type": "execute_result"
    },
    {
     "data": {
      "image/png": "[encoded data removed]",
      "text/plain": [
       "<Figure size 360x360 with 6 Axes>"
      ]
     },
     "metadata": {
      "needs_background": "light"
     },
     "output_type": "display_data"
    }
   ],
   "source": [
    "\n",
    "sample1 = stats.uniform(0.0, 1.0).rvs(100) * -1 \n",
    "sample2 = sample1 ** 2\n",
    "\n",
    "sample1 = np.array([1, 0, -1, 0]);\n",
    "sample2 = np.array([0, 1, 0, -1]);  \n",
    "\n",
    "print(f\"Corr matrix:\\n {np.corrcoef(sample1, sample2)}\")\n",
    "\n",
    "df1 = pd.DataFrame()\n",
    "df1['first_sample'] = pd.Series(sample1)\n",
    "df1['second_sample'] = pd.Series(sample2)\n",
    "\n",
    "sns.pairplot(df1)"
   ]
  },
  {
   "cell_type": "markdown",
   "metadata": {},
   "source": [
    "- Сгенерируйте 2 выборки из $\\mathcal{N}(4,2)$, посчитайте их общий ранг и сумму рангов в каждой выборке."
   ]
  },
  {
   "cell_type": "code",
   "execution_count": 155,
   "metadata": {},
   "outputs": [
    {
     "name": "stdout",
     "output_type": "stream",
     "text": [
      "Sample 1 total rank: 5050.0\n",
      "Sample 1 total rank: 5050.0\n",
      "Sample 1 total rank: 20100.0\n",
      "Total rank for sample with 100 unique vals 5050.0\n",
      "Total rank for sample with 200 unique vals 20100.0\n"
     ]
    }
   ],
   "source": [
    "norm_rv = stats.norm(4,2)\n",
    "sample_1 = norm_rv.rvs(100)\n",
    "sample_2 = norm_rv.rvs(100)\n",
    "sample = np.concatenate((sample_1, sample_2))\n",
    "\n",
    "\n",
    "#your code here\n",
    "def estimate_sample_rank(sample):\n",
    "    '''\n",
    "    Estimate total rank of one dimensional sample and rank each elem\n",
    "    '''\n",
    "    sample = sorted(sample)\n",
    "    sample_dict = {}\n",
    "    for idx, val in enumerate(sample):\n",
    "        idx = idx + 1\n",
    "        sample_dict.setdefault(val, {'rank': 0, 'vals': []})\n",
    "        sample_dict[val]['vals'].append(idx)\n",
    "    \n",
    "    total_rank = 0\n",
    "    for key in sample_dict.keys():\n",
    "        sample_dict[key]['rank'] = sum(sample_dict[key]['vals']) / len(sample_dict[key]['vals'])\n",
    "        total_rank = total_rank + sample_dict[key]['rank'] * len(sample_dict[key]['vals'])\n",
    "        \n",
    "    return {'ranked_sample': sample_dict, 'total_rank': total_rank}\n",
    "\n",
    "\n",
    "print(f\"Sample 1 total rank: {estimate_sample_rank(sample_1)['total_rank']}\")\n",
    "print(f\"Sample 1 total rank: {estimate_sample_rank(sample_2)['total_rank']}\")\n",
    "print(f\"Sample 1 total rank: {estimate_sample_rank(sample)['total_rank']}\")\n",
    "\n",
    "# To check your self\n",
    "print(f'Total rank for sample with 100 unique vals {(1 + 100)*100/2}')\n",
    "print(f'Total rank for sample with 200 unique vals {(1 + 200)*200/2}')"
   ]
  }
 ],
 "metadata": {
  "kernelspec": {
   "display_name": "Python 3",
   "language": "python",
   "name": "python3"
  },
  "language_info": {
   "codemirror_mode": {
    "name": "ipython",
    "version": 3
   },
   "file_extension": ".py",
   "mimetype": "text/x-python",
   "name": "python",
   "nbconvert_exporter": "python",
   "pygments_lexer": "ipython3",
   "version": "3.7.1"
  }
 },
 "nbformat": 4,
 "nbformat_minor": 2
}
