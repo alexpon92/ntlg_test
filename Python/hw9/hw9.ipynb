{
 "cells": [
  {
   "cell_type": "markdown",
   "metadata": {},
   "source": [
    "# Домашнее задание. Основы теории вероятностей\n",
    "## Пономарев Александр"
   ]
  },
  {
   "cell_type": "markdown",
   "metadata": {},
   "source": [
    "### Классическая теория вероятностей"
   ]
  },
  {
   "cell_type": "markdown",
   "metadata": {},
   "source": [
    "#### Вопрос 1. На шахматной доске рамером $n \\times n$ размещают n ладей. Найдите вероятность следующих событий:"
   ]
  },
  {
   "cell_type": "markdown",
   "metadata": {},
   "source": [
    "*A = {Ладьи не бьют друг друга}*"
   ]
  },
  {
   "cell_type": "markdown",
   "metadata": {},
   "source": [
    "Решение:\n",
    "1. Общее кол-во всевозможных размещений n ладей на доске размером $n \\times n$ равно $С_{n^2}^n$\n",
    "2. Для того, чтобы ладьи не били друг друга, нужно разместить их таким образом, чтобы сочетание i,j было уникальным для каждой ладьи, где i - позиция по горизонтали (от 1 до n), j - позиция по горизонтали (от 1 до n)\n",
    "3. Таким образом, общее кол-во размещений из п.2 равно $n!$\n",
    "4. След-но $P(A) = \\frac {n!}{С_{n^2}^n}$\n",
    "\n",
    "Ответ: $P(A) = \\frac {n!}{С_{n^2}^n}$"
   ]
  },
  {
   "cell_type": "markdown",
   "metadata": {},
   "source": [
    "*B = {Ладьи не бьют друг друга и на главной диагонали нет ни одной фигуры}*"
   ]
  },
  {
   "cell_type": "markdown",
   "metadata": {},
   "source": [
    "Решение:\n",
    "1. Исходя из предыдущего пункта, мы знаем, что вероятность того, что ладьи не бьют друг друга $P(A) = \\frac {n!}{С_{n^2}^n}$\n",
    "2. Т.к. главная диагональ занята, кол-во наших возможных расстановок уменьшится до (n-1)!, т.к. размещение на диагонали будет запрещено, т.о $P(B) = \\frac {(n-1)!}{С_{n^2}^n}$\n",
    "\n",
    "Ответ: $P(B) = \\frac {(n-1)!}{С_{n^2}^n}$"
   ]
  },
  {
   "cell_type": "markdown",
   "metadata": {},
   "source": [
    "#### Вопрос 2. Брошено 3 игральных кости. Найти вероятность того, что на всех костях выпала \"шестерка\", при условии, что:"
   ]
  },
  {
   "cell_type": "markdown",
   "metadata": {},
   "source": [
    "*По крайней мере на одной кости выпала \"шестерка\"*"
   ]
  },
  {
   "cell_type": "markdown",
   "metadata": {},
   "source": [
    "Пусть событие А - это выподение шестерки на всех трех костях. Тогда $P(A) = \\frac {1}{6} \\times \\frac{1}{6} \\times \\frac {1}{6} = \\frac {1}{6^3} = \\frac {1}{216}$"
   ]
  },
  {
   "cell_type": "markdown",
   "metadata": {},
   "source": [
    "Пусть событие B - это выпадение хотя бы одной шестерки. Тогда $P(B) = 1 - (\\frac {5}{6} \\times \\frac {5}{6} \\times \\frac {5}{6}) = 1 - \\frac {5^3}{6^3} = \\frac {91}{216}$"
   ]
  },
  {
   "cell_type": "markdown",
   "metadata": {},
   "source": [
    "Тогда, $P(A|B) = \\frac {P(A \\cap B)}{P(B)} = \\frac {\\frac {1}{216}}{\\frac {91}{216}} = \\frac {1}{91} $\n",
    "Ответ: $\\frac {91}{216}$"
   ]
  },
  {
   "cell_type": "markdown",
   "metadata": {},
   "source": [
    "*По крайней мере на двух костях выпало одинаковое кол-во очков*"
   ]
  },
  {
   "cell_type": "markdown",
   "metadata": {},
   "source": [
    "Пусть событие А - это выподение шестерки на всех трех костях. Тогда $P(A) = \\frac {1}{6} \\times \\frac{1}{6} \\times \\frac {1}{6} = \\frac {1}{6^3} = \\frac {1}{216}$"
   ]
  },
  {
   "cell_type": "markdown",
   "metadata": {},
   "source": [
    "Пусть событие B - это выпадение одинакового кол-ва очков хотя бы на двух костях. Тогда $P(B) = C_{3}^2 \\times \\frac {6^2}{6^3} = \\frac {1}{2}$"
   ]
  },
  {
   "cell_type": "markdown",
   "metadata": {},
   "source": [
    "Тогда, $P(A|B) = \\frac {P(A \\cap B)}{P(B)} = \\frac {\\frac {1}{216}}{\\frac {1}{2}} = \\frac {1}{108}$\n",
    "\n",
    "Ответ: $\\frac {1}{108}$"
   ]
  },
  {
   "cell_type": "markdown",
   "metadata": {},
   "source": [
    "#### Вопрос 3. В некоторой попоуляцмии до 60 лет доживает 50%, а до 80 лет 20% . Какова вероятность, что шестидесятилетний представитель популяции доживет до 80 лет?"
   ]
  },
  {
   "cell_type": "markdown",
   "metadata": {},
   "source": [
    "По формуле условной вероятности: $P(B|A) = \\frac {P(A \\cap B)}{P(A)}$, \n",
    "где А - вероятность дожить до 60 лет, B - вероятность дожить до 80\n",
    "\n",
    "Пересечением множетсва $A \\cap B = B$, т.о. $P(A \\cap B) = 0.2$, тогда  $P(B|A) = \\frac {0.2}{0.5} = 0.4\n",
    "\n",
    "Ответ: 0.4"
   ]
  },
  {
   "cell_type": "markdown",
   "metadata": {},
   "source": [
    "#### Вопрос 4. На заводе мебели производится 3 типа модели. Вероятность того, что первая модель некачественная - 0.1, что вторая - 0.2, что третья - 0.15. Соотношение типов моделей на складе 40 : 30 : 30."
   ]
  },
  {
   "cell_type": "markdown",
   "metadata": {},
   "source": [
    "*Какова вероятность, что случайно выбранная модель обуви окажется качественной?*"
   ]
  },
  {
   "cell_type": "markdown",
   "metadata": {},
   "source": [
    "1. Событие A - множество вариантов выбрать обувь первой модели, событие $A_1$, что она качественная. \n",
    "$P(A_2) = P(A_1 \\cap A)= (1 - 0.1) \\times 0.4  = 0.36 $\n",
    "2. Событие B - множество вариантов выбрать обувь второй модели, событие $B_1$, что она качественная.\n",
    "$P(B_2) = P(B_1 \\cap B)= (1 - 0.2) \\times 0.3 = 0.24 $\n",
    "3. Событие C - множество вариантов выбрать обувь второй модели, событие $C_1$, что она качественная.\n",
    "$P(C_2) = P(C_1 \\cap C)= (1 - 0.15) \\times 0.3 = 0.255 $\n",
    "4. D - множество событий выбрать качественную обувь $P(D) = P(A_2 \\cup B_2 \\cup C_2) = 0.36 + 0.24 + 0.255 = 0.855$\n",
    "\n",
    "Ответ: 0.855"
   ]
  },
  {
   "cell_type": "markdown",
   "metadata": {},
   "source": [
    "*Какова вероятность, что выбранная некачественная пара обуви будет второй модели?*"
   ]
  },
  {
   "cell_type": "markdown",
   "metadata": {},
   "source": [
    "1. A - множество событий, когда мы выбрали некачественную пару обуви. Тогда, исходя из предыдущего пункта, P(A) = 1 - 0.855 = 0.155\n",
    "2. B - множество событий, когда мы выбрали некачественную пару второй модели. Тогда, P(B) = 0.2 * 0.3 = 0.06\n",
    "3. $P(B|A) = \\frac {P(B \\cap A)}{P(A)} = \\frac {0.06}{0.155} \\approx 0.387$\n",
    "\n",
    "Ответ: 0.387"
   ]
  },
  {
   "cell_type": "markdown",
   "metadata": {},
   "source": [
    "### Распределения"
   ]
  },
  {
   "cell_type": "markdown",
   "metadata": {},
   "source": [
    "#### Вопрос 1. Распределение Пуассона"
   ]
  },
  {
   "cell_type": "markdown",
   "metadata": {},
   "source": [
    "Ответ: (b), (c), (d)"
   ]
  },
  {
   "cell_type": "markdown",
   "metadata": {},
   "source": [
    "#### Вопрос 2. Построение графиков"
   ]
  },
  {
   "cell_type": "markdown",
   "metadata": {},
   "source": [
    "*Распределение Пуассона*"
   ]
  },
  {
   "cell_type": "code",
   "execution_count": 112,
   "metadata": {},
   "outputs": [
    {
     "data": {
      "image/png": "[encoded data removed]",
      "text/plain": [
       "<Figure size 432x288 with 1 Axes>"
      ]
     },
     "metadata": {
      "needs_background": "light"
     },
     "output_type": "display_data"
    }
   ],
   "source": [
    "import scipy.stats as sts\n",
    "import matplotlib.pyplot as plt\n",
    "import numpy as np\n",
    "%matplotlib inline\n",
    "\n",
    "x = np.linspace(0, 20, 100)\n",
    "\n",
    "mu1 = 5\n",
    "cdf1 = sts.poisson.cdf(x, mu1)\n",
    "\n",
    "mu2 = 1\n",
    "cdf2 = sts.poisson.cdf(x, mu2)\n",
    "\n",
    "mu3 = 0.2\n",
    "cdf3 = sts.poisson.cdf(x, mu3)\n",
    "\n",
    "plt.plot(x, cdf1, label='mu=5')\n",
    "plt.plot(x, cdf2, label='mu=1')\n",
    "plt.plot(x, cdf3, label='mu=0.2')\n",
    "plt.legend(loc='lower right')\n",
    "\n",
    "plt.ylabel('$F(x)$')\n",
    "plt.xlabel('$x$')\n",
    "\n",
    "plt.show()"
   ]
  },
  {
   "cell_type": "markdown",
   "metadata": {},
   "source": [
    "*Экспоненциальное распределение*"
   ]
  },
  {
   "cell_type": "code",
   "execution_count": 134,
   "metadata": {},
   "outputs": [
    {
     "data": {
      "image/png": "[encoded data removed]",
      "text/plain": [
       "<Figure size 432x288 with 1 Axes>"
      ]
     },
     "metadata": {
      "needs_background": "light"
     },
     "output_type": "display_data"
    }
   ],
   "source": [
    "x = np.linspace(0, 10, 100)\n",
    "\n",
    "cdf1 = sts.expon.cdf(x, scale=0.2)\n",
    "plt.plot(x, cdf1, label='Scale 0.2')\n",
    "\n",
    "cdf2 = sts.expon.cdf(x, scale=2)\n",
    "plt.plot(x, cdf2, label='Scale 2')\n",
    "\n",
    "cdf3 = sts.expon.cdf(x, scale=1.1)\n",
    "plt.plot(x, cdf3, label='Scale 1.1')\n",
    "\n",
    "plt.legend(loc='lower right')\n",
    "\n",
    "plt.ylabel('$F(x)$')\n",
    "plt.xlabel('$x$')\n",
    "plt.show()"
   ]
  },
  {
   "cell_type": "markdown",
   "metadata": {},
   "source": [
    "*Любое другое распределение. Распределение Коши*"
   ]
  },
  {
   "cell_type": "code",
   "execution_count": 148,
   "metadata": {},
   "outputs": [
    {
     "data": {
      "image/png": "[encoded data removed]",
      "text/plain": [
       "<Figure size 432x288 with 1 Axes>"
      ]
     },
     "metadata": {
      "needs_background": "light"
     },
     "output_type": "display_data"
    }
   ],
   "source": [
    "x = np.linspace(0, 10, 100)\n",
    "\n",
    "cdf3 = sts.vonmises.cdf(x, kappa=15)\n",
    "plt.plot(x, cdf3, label='Kappa 15')\n",
    "\n",
    "cdf1 = sts.vonmises.cdf(x, kappa=2)\n",
    "plt.plot(x, cdf1, label='Kappa 2')\n",
    "\n",
    "cdf2 = sts.vonmises.cdf(x, kappa=1)\n",
    "plt.plot(x, cdf2, label='Kappa 1.5')\n",
    "\n",
    "cdf2 = sts.vonmises.cdf(x, kappa=0.5)\n",
    "plt.plot(x, cdf2, label='Kappa 0.5')\n",
    "\n",
    "plt.legend(loc='lower right')\n",
    "\n",
    "plt.ylabel('$F(x)$')\n",
    "plt.xlabel('$x$')\n",
    "plt.show()"
   ]
  }
 ],
 "metadata": {
  "kernelspec": {
   "display_name": "Python 3",
   "language": "python",
   "name": "python3"
  },
  "language_info": {
   "codemirror_mode": {
    "name": "ipython",
    "version": 3
   },
   "file_extension": ".py",
   "mimetype": "text/x-python",
   "name": "python",
   "nbconvert_exporter": "python",
   "pygments_lexer": "ipython3",
   "version": "3.7.1"
  }
 },
 "nbformat": 4,
 "nbformat_minor": 2
}
