{
 "cells": [
  {
   "cell_type": "markdown",
   "metadata": {},
   "source": [
    "## Домашняя работа 2. Пономарев Александр"
   ]
  },
  {
   "cell_type": "code",
   "execution_count": 2,
   "metadata": {},
   "outputs": [],
   "source": [
    "import pandas as pd\n",
    "import numpy as np\n",
    "import matplotlib.pyplot as plt\n",
    "from sklearn.model_selection import train_test_split\n",
    "%matplotlib inline"
   ]
  },
  {
   "cell_type": "markdown",
   "metadata": {},
   "source": [
    "## Kobe Bryant  shot selection"
   ]
  },
  {
   "cell_type": "markdown",
   "metadata": {},
   "source": [
    "Cсылка на соревнование: https://www.kaggle.com/c/kobe-bryant-shot-selection"
   ]
  },
  {
   "cell_type": "markdown",
   "metadata": {},
   "source": [
    "Goal: Fun and education"
   ]
  },
  {
   "cell_type": "markdown",
   "metadata": {},
   "source": [
    "Using 20 years of data on Kobe's swishes and misses, can you predict which shots will find the bottom of the net? This competition is well suited for practicing classification basics, feature engineering, and time series analysis. Practice got Kobe an eight-figure contract and 5 championship rings. What will it get you?"
   ]
  },
  {
   "cell_type": "markdown",
   "metadata": {},
   "source": [
    "This data contains the location and circumstances of every field goal attempted by Kobe Bryant took during his 20-year career. Your task is to predict whether the basket went in (shot_made_flag).\n",
    "\n",
    "We have removed 5000 of the shot_made_flags (represented as missing values in the csv file). These are the test set shots for which you must submit a prediction. You are provided a sample submission file with the correct shot_ids needed for a valid prediction."
   ]
  },
  {
   "cell_type": "code",
   "execution_count": 3,
   "metadata": {},
   "outputs": [],
   "source": [
    "raw_data = pd.read_csv('data/Kobe.csv')"
   ]
  },
  {
   "cell_type": "code",
   "execution_count": 4,
   "metadata": {},
   "outputs": [
    {
     "data": {
      "text/html": [
       "<div>\n",
       "<style scoped>\n",
       "    .dataframe tbody tr th:only-of-type {\n",
       "        vertical-align: middle;\n",
       "    }\n",
       "\n",
       "    .dataframe tbody tr th {\n",
       "        vertical-align: top;\n",
       "    }\n",
       "\n",
       "    .dataframe thead th {\n",
       "        text-align: right;\n",
       "    }\n",
       "</style>\n",
       "<table border=\"1\" class=\"dataframe\">\n",
       "  <thead>\n",
       "    <tr style=\"text-align: right;\">\n",
       "      <th></th>\n",
       "      <th>action_type</th>\n",
       "      <th>combined_shot_type</th>\n",
       "      <th>game_event_id</th>\n",
       "      <th>game_id</th>\n",
       "      <th>lat</th>\n",
       "      <th>loc_x</th>\n",
       "      <th>loc_y</th>\n",
       "      <th>lon</th>\n",
       "      <th>minutes_remaining</th>\n",
       "      <th>period</th>\n",
       "      <th>...</th>\n",
       "      <th>shot_type</th>\n",
       "      <th>shot_zone_area</th>\n",
       "      <th>shot_zone_basic</th>\n",
       "      <th>shot_zone_range</th>\n",
       "      <th>team_id</th>\n",
       "      <th>team_name</th>\n",
       "      <th>game_date</th>\n",
       "      <th>matchup</th>\n",
       "      <th>opponent</th>\n",
       "      <th>shot_id</th>\n",
       "    </tr>\n",
       "  </thead>\n",
       "  <tbody>\n",
       "    <tr>\n",
       "      <th>0</th>\n",
       "      <td>Jump Shot</td>\n",
       "      <td>Jump Shot</td>\n",
       "      <td>10</td>\n",
       "      <td>20000012</td>\n",
       "      <td>33.9723</td>\n",
       "      <td>167</td>\n",
       "      <td>72</td>\n",
       "      <td>-118.1028</td>\n",
       "      <td>10</td>\n",
       "      <td>1</td>\n",
       "      <td>...</td>\n",
       "      <td>2PT Field Goal</td>\n",
       "      <td>Right Side(R)</td>\n",
       "      <td>Mid-Range</td>\n",
       "      <td>16-24 ft.</td>\n",
       "      <td>1610612747</td>\n",
       "      <td>Los Angeles Lakers</td>\n",
       "      <td>2000-10-31</td>\n",
       "      <td>LAL @ POR</td>\n",
       "      <td>POR</td>\n",
       "      <td>1</td>\n",
       "    </tr>\n",
       "    <tr>\n",
       "      <th>1</th>\n",
       "      <td>Jump Shot</td>\n",
       "      <td>Jump Shot</td>\n",
       "      <td>12</td>\n",
       "      <td>20000012</td>\n",
       "      <td>34.0443</td>\n",
       "      <td>-157</td>\n",
       "      <td>0</td>\n",
       "      <td>-118.4268</td>\n",
       "      <td>10</td>\n",
       "      <td>1</td>\n",
       "      <td>...</td>\n",
       "      <td>2PT Field Goal</td>\n",
       "      <td>Left Side(L)</td>\n",
       "      <td>Mid-Range</td>\n",
       "      <td>8-16 ft.</td>\n",
       "      <td>1610612747</td>\n",
       "      <td>Los Angeles Lakers</td>\n",
       "      <td>2000-10-31</td>\n",
       "      <td>LAL @ POR</td>\n",
       "      <td>POR</td>\n",
       "      <td>2</td>\n",
       "    </tr>\n",
       "    <tr>\n",
       "      <th>2</th>\n",
       "      <td>Jump Shot</td>\n",
       "      <td>Jump Shot</td>\n",
       "      <td>35</td>\n",
       "      <td>20000012</td>\n",
       "      <td>33.9093</td>\n",
       "      <td>-101</td>\n",
       "      <td>135</td>\n",
       "      <td>-118.3708</td>\n",
       "      <td>7</td>\n",
       "      <td>1</td>\n",
       "      <td>...</td>\n",
       "      <td>2PT Field Goal</td>\n",
       "      <td>Left Side Center(LC)</td>\n",
       "      <td>Mid-Range</td>\n",
       "      <td>16-24 ft.</td>\n",
       "      <td>1610612747</td>\n",
       "      <td>Los Angeles Lakers</td>\n",
       "      <td>2000-10-31</td>\n",
       "      <td>LAL @ POR</td>\n",
       "      <td>POR</td>\n",
       "      <td>3</td>\n",
       "    </tr>\n",
       "    <tr>\n",
       "      <th>3</th>\n",
       "      <td>Jump Shot</td>\n",
       "      <td>Jump Shot</td>\n",
       "      <td>43</td>\n",
       "      <td>20000012</td>\n",
       "      <td>33.8693</td>\n",
       "      <td>138</td>\n",
       "      <td>175</td>\n",
       "      <td>-118.1318</td>\n",
       "      <td>6</td>\n",
       "      <td>1</td>\n",
       "      <td>...</td>\n",
       "      <td>2PT Field Goal</td>\n",
       "      <td>Right Side Center(RC)</td>\n",
       "      <td>Mid-Range</td>\n",
       "      <td>16-24 ft.</td>\n",
       "      <td>1610612747</td>\n",
       "      <td>Los Angeles Lakers</td>\n",
       "      <td>2000-10-31</td>\n",
       "      <td>LAL @ POR</td>\n",
       "      <td>POR</td>\n",
       "      <td>4</td>\n",
       "    </tr>\n",
       "    <tr>\n",
       "      <th>4</th>\n",
       "      <td>Driving Dunk Shot</td>\n",
       "      <td>Dunk</td>\n",
       "      <td>155</td>\n",
       "      <td>20000012</td>\n",
       "      <td>34.0443</td>\n",
       "      <td>0</td>\n",
       "      <td>0</td>\n",
       "      <td>-118.2698</td>\n",
       "      <td>6</td>\n",
       "      <td>2</td>\n",
       "      <td>...</td>\n",
       "      <td>2PT Field Goal</td>\n",
       "      <td>Center(C)</td>\n",
       "      <td>Restricted Area</td>\n",
       "      <td>Less Than 8 ft.</td>\n",
       "      <td>1610612747</td>\n",
       "      <td>Los Angeles Lakers</td>\n",
       "      <td>2000-10-31</td>\n",
       "      <td>LAL @ POR</td>\n",
       "      <td>POR</td>\n",
       "      <td>5</td>\n",
       "    </tr>\n",
       "  </tbody>\n",
       "</table>\n",
       "<p>5 rows × 25 columns</p>\n",
       "</div>"
      ],
      "text/plain": [
       "         action_type combined_shot_type  game_event_id   game_id      lat  \\\n",
       "0          Jump Shot          Jump Shot             10  20000012  33.9723   \n",
       "1          Jump Shot          Jump Shot             12  20000012  34.0443   \n",
       "2          Jump Shot          Jump Shot             35  20000012  33.9093   \n",
       "3          Jump Shot          Jump Shot             43  20000012  33.8693   \n",
       "4  Driving Dunk Shot               Dunk            155  20000012  34.0443   \n",
       "\n",
       "   loc_x  loc_y       lon  minutes_remaining  period   ...          shot_type  \\\n",
       "0    167     72 -118.1028                 10       1   ...     2PT Field Goal   \n",
       "1   -157      0 -118.4268                 10       1   ...     2PT Field Goal   \n",
       "2   -101    135 -118.3708                  7       1   ...     2PT Field Goal   \n",
       "3    138    175 -118.1318                  6       1   ...     2PT Field Goal   \n",
       "4      0      0 -118.2698                  6       2   ...     2PT Field Goal   \n",
       "\n",
       "          shot_zone_area  shot_zone_basic  shot_zone_range     team_id  \\\n",
       "0          Right Side(R)        Mid-Range        16-24 ft.  1610612747   \n",
       "1           Left Side(L)        Mid-Range         8-16 ft.  1610612747   \n",
       "2   Left Side Center(LC)        Mid-Range        16-24 ft.  1610612747   \n",
       "3  Right Side Center(RC)        Mid-Range        16-24 ft.  1610612747   \n",
       "4              Center(C)  Restricted Area  Less Than 8 ft.  1610612747   \n",
       "\n",
       "            team_name   game_date    matchup opponent  shot_id  \n",
       "0  Los Angeles Lakers  2000-10-31  LAL @ POR      POR        1  \n",
       "1  Los Angeles Lakers  2000-10-31  LAL @ POR      POR        2  \n",
       "2  Los Angeles Lakers  2000-10-31  LAL @ POR      POR        3  \n",
       "3  Los Angeles Lakers  2000-10-31  LAL @ POR      POR        4  \n",
       "4  Los Angeles Lakers  2000-10-31  LAL @ POR      POR        5  \n",
       "\n",
       "[5 rows x 25 columns]"
      ]
     },
     "execution_count": 4,
     "metadata": {},
     "output_type": "execute_result"
    }
   ],
   "source": [
    "raw_data.head()"
   ]
  },
  {
   "cell_type": "code",
   "execution_count": 5,
   "metadata": {},
   "outputs": [],
   "source": [
    "target = 'shot_made_flag'"
   ]
  },
  {
   "cell_type": "markdown",
   "metadata": {},
   "source": [
    "**Задания:**\n",
    "\n",
    "1. Провести анализ данных. Много хороших примеров анализа можно посмотреть здесь https://www.kaggle.com/c/kobe-bryant-shot-selection/kernels\n",
    "2. Подготовить фичи для обучения модели - нагенерить признаков, обработать пропущенные значения, проверить на возможные выбросы, обработать категориальные признаки и др.\n",
    "3. Обучить линейную модель, Lasso, Ridge на тех же признаках - построить сравнительную таблицу коэффициентов, сделать заключения о том, как меняется величина коэффициентов, какие зануляются. Посчитать RSS\n",
    "\n",
    "**Дополнительно**\n",
    "4. Сравнить результаты на тестовом наборе данных - сделать train_test_split в самом начале, подготовить переменные, сравнить результаты работы классификаторов (те же 3), метрика ROC AUC"
   ]
  },
  {
   "cell_type": "markdown",
   "metadata": {},
   "source": [
    "### Решение"
   ]
  },
  {
   "cell_type": "markdown",
   "metadata": {},
   "source": [
    "1. Разделим данные на две выборки, тестовая и обучающая\n",
    "2. Рассмотрим группы переменных и проанализируем, что из них пригодится для анализа, избавимся от категориальных переменных\n",
    "3. Обучение моделей\n",
    "4. Сравнение эффективности на тестовых данных"
   ]
  },
  {
   "cell_type": "code",
   "execution_count": 6,
   "metadata": {},
   "outputs": [
    {
     "name": "stdout",
     "output_type": "stream",
     "text": [
      "<class 'pandas.core.frame.DataFrame'>\n",
      "RangeIndex: 30697 entries, 0 to 30696\n",
      "Data columns (total 25 columns):\n",
      "action_type           30697 non-null object\n",
      "combined_shot_type    30697 non-null object\n",
      "game_event_id         30697 non-null int64\n",
      "game_id               30697 non-null int64\n",
      "lat                   30697 non-null float64\n",
      "loc_x                 30697 non-null int64\n",
      "loc_y                 30697 non-null int64\n",
      "lon                   30697 non-null float64\n",
      "minutes_remaining     30697 non-null int64\n",
      "period                30697 non-null int64\n",
      "playoffs              30697 non-null int64\n",
      "season                30697 non-null object\n",
      "seconds_remaining     30697 non-null int64\n",
      "shot_distance         30697 non-null int64\n",
      "shot_made_flag        25697 non-null float64\n",
      "shot_type             30697 non-null object\n",
      "shot_zone_area        30697 non-null object\n",
      "shot_zone_basic       30697 non-null object\n",
      "shot_zone_range       30697 non-null object\n",
      "team_id               30697 non-null int64\n",
      "team_name             30697 non-null object\n",
      "game_date             30697 non-null object\n",
      "matchup               30697 non-null object\n",
      "opponent              30697 non-null object\n",
      "shot_id               30697 non-null int64\n",
      "dtypes: float64(3), int64(11), object(11)\n",
      "memory usage: 5.9+ MB\n"
     ]
    }
   ],
   "source": [
    "raw_data.info()"
   ]
  },
  {
   "cell_type": "code",
   "execution_count": 7,
   "metadata": {},
   "outputs": [
    {
     "name": "stdout",
     "output_type": "stream",
     "text": [
      "Unique shot ids len: 30697\n"
     ]
    }
   ],
   "source": [
    "print(f'Unique shot ids len: {len(raw_data.shot_id.unique())}')"
   ]
  },
  {
   "cell_type": "markdown",
   "metadata": {},
   "source": [
    "Из описания данных мы видим, что наша целевая переменная 'shot_made_flag' не всегда известна, поэтому придется урезать нашу выборку, выбросив все броски, результат которых не известен."
   ]
  },
  {
   "cell_type": "code",
   "execution_count": 8,
   "metadata": {},
   "outputs": [
    {
     "name": "stdout",
     "output_type": "stream",
     "text": [
      "<class 'pandas.core.frame.DataFrame'>\n",
      "Int64Index: 25697 entries, 1 to 30696\n",
      "Data columns (total 25 columns):\n",
      "action_type           25697 non-null object\n",
      "combined_shot_type    25697 non-null object\n",
      "game_event_id         25697 non-null int64\n",
      "game_id               25697 non-null int64\n",
      "lat                   25697 non-null float64\n",
      "loc_x                 25697 non-null int64\n",
      "loc_y                 25697 non-null int64\n",
      "lon                   25697 non-null float64\n",
      "minutes_remaining     25697 non-null int64\n",
      "period                25697 non-null int64\n",
      "playoffs              25697 non-null int64\n",
      "season                25697 non-null object\n",
      "seconds_remaining     25697 non-null int64\n",
      "shot_distance         25697 non-null int64\n",
      "shot_made_flag        25697 non-null float64\n",
      "shot_type             25697 non-null object\n",
      "shot_zone_area        25697 non-null object\n",
      "shot_zone_basic       25697 non-null object\n",
      "shot_zone_range       25697 non-null object\n",
      "team_id               25697 non-null int64\n",
      "team_name             25697 non-null object\n",
      "game_date             25697 non-null object\n",
      "matchup               25697 non-null object\n",
      "opponent              25697 non-null object\n",
      "shot_id               25697 non-null int64\n",
      "dtypes: float64(3), int64(11), object(11)\n",
      "memory usage: 5.1+ MB\n"
     ]
    }
   ],
   "source": [
    "not_null_raw_data = raw_data[pd.notnull(raw_data['shot_made_flag'])]\n",
    "not_null_raw_data.info()"
   ]
  },
  {
   "cell_type": "markdown",
   "metadata": {},
   "source": [
    "Для обработки категориальных данных будем использовать метод WOE"
   ]
  },
  {
   "cell_type": "code",
   "execution_count": 9,
   "metadata": {},
   "outputs": [],
   "source": [
    "def get_woe_v1(df_train, df_test, col, target_col):\n",
    "    all_good = len(df_train[df_train[target_col] == 1][col])\n",
    "    all_bad = len(df_train[df_train[target_col] == 0][col])\n",
    "    odds_series = (\n",
    "        df_train[df_train[target_col] == 1][col].value_counts()\n",
    "        /\n",
    "        df_train[df_train[target_col] == 0][col].value_counts()\n",
    "    )\n",
    "    odds_series = odds_series / all_good * all_bad\n",
    "    category_woe_dict = np.log(odds_series).to_dict()\n",
    "    df_train[col + '_woe'] = df_train[col].apply(category_woe_dict.get)\n",
    "    df_test[col + '_woe'] = df_test[col].apply(category_woe_dict.get)\n",
    "    return df_train, df_test"
   ]
  },
  {
   "cell_type": "markdown",
   "metadata": {},
   "source": [
    "Функция для удаления лишних колонок"
   ]
  },
  {
   "cell_type": "code",
   "execution_count": 10,
   "metadata": {},
   "outputs": [],
   "source": [
    "def drop_column(df_train, df_test, col):\n",
    "    df_train.drop(col, axis=1, inplace=True)\n",
    "    df_test.drop(col, axis=1, inplace=True)\n",
    "    return df_train, df_test"
   ]
  },
  {
   "cell_type": "markdown",
   "metadata": {},
   "source": [
    "Функция для one-hot encoding категориальных данных, которая пригодится нам далее"
   ]
  },
  {
   "cell_type": "code",
   "execution_count": 11,
   "metadata": {},
   "outputs": [],
   "source": [
    "def one_hot_column(df_train, df_test, col, indx_col):\n",
    "    one_hotted_train = pd.get_dummies(df_train[[indx_col, col]]).set_index(indx_col)\n",
    "    one_hotted_test = pd.get_dummies(df_test[[indx_col, col]]).set_index(indx_col)\n",
    "    \n",
    "    not_created = list(set(one_hotted_train.columns) - set(one_hotted_test.columns))\n",
    "    \n",
    "    if len(not_created) > 0:\n",
    "        for col in not_created:\n",
    "            one_hotted_test[col] = 0\n",
    "    df_train = df_train.join(one_hotted_train, on=indx_col)\n",
    "    df_test = df_test.join(one_hotted_test, on=indx_col)\n",
    "    \n",
    "    df_train, df_test = drop_column(df_train=df_train, df_test=df_test, col=col)\n",
    "    return df_train, df_test"
   ]
  },
  {
   "cell_type": "markdown",
   "metadata": {},
   "source": [
    "#### Разделим данные на тренировочную и обучающие выборки"
   ]
  },
  {
   "cell_type": "code",
   "execution_count": 73,
   "metadata": {},
   "outputs": [],
   "source": [
    "train_sample, test_sample = train_test_split(not_null_raw_data, test_size=0.2, random_state=23)"
   ]
  },
  {
   "cell_type": "code",
   "execution_count": 74,
   "metadata": {},
   "outputs": [
    {
     "name": "stdout",
     "output_type": "stream",
     "text": [
      "Train sample len 20557. Test sample len 5140\n"
     ]
    }
   ],
   "source": [
    "print(f'Train sample len {train_sample.shape[0]}. Test sample len {test_sample.shape[0]}')"
   ]
  },
  {
   "cell_type": "markdown",
   "metadata": {},
   "source": [
    "#### Рассмотрим переменные action_type,  combined_shot_type, shot_type"
   ]
  },
  {
   "cell_type": "code",
   "execution_count": 75,
   "metadata": {},
   "outputs": [
    {
     "name": "stdout",
     "output_type": "stream",
     "text": [
      "Unique action types: ['Jump Shot' 'Layup Shot' 'Fadeaway Jump Shot' 'Running Jump Shot'\n",
      " 'Tip Shot' 'Slam Dunk Shot' 'Turnaround Jump Shot' 'Driving Layup Shot'\n",
      " 'Dunk Shot' 'Reverse Layup Shot' 'Step Back Jump shot' 'Pullup Jump shot'\n",
      " 'Driving Jump shot' 'Driving Dunk Shot' 'Floating Jump shot'\n",
      " 'Driving Reverse Layup Shot' 'Jump Bank Shot' 'Running Bank shot'\n",
      " 'Driving Slam Dunk Shot' 'Turnaround Fadeaway shot' 'Alley Oop Dunk Shot'\n",
      " 'Turnaround Bank shot' 'Hook Shot' 'Reverse Dunk Shot' 'Finger Roll Shot'\n",
      " 'Alley Oop Layup shot' 'Reverse Slam Dunk Shot' 'Fadeaway Bank shot'\n",
      " 'Driving Finger Roll Shot' 'Pullup Bank shot' 'Turnaround Hook Shot'\n",
      " 'Running Hook Shot' 'Hook Bank Shot' 'Driving Finger Roll Layup Shot'\n",
      " 'Running Finger Roll Layup Shot' 'Finger Roll Layup Shot'\n",
      " 'Running Layup Shot' 'Turnaround Finger Roll Shot' 'Running Dunk Shot'\n",
      " 'Tip Layup Shot' 'Driving Hook Shot' 'Jump Hook Shot'\n",
      " 'Putback Layup Shot' 'Running Pull-Up Jump Shot'\n",
      " 'Driving Floating Jump Shot' 'Running Finger Roll Shot'\n",
      " 'Cutting Layup Shot' 'Follow Up Dunk Shot' 'Running Tip Shot'\n",
      " 'Putback Dunk Shot' 'Running Slam Dunk Shot' 'Putback Slam Dunk Shot'\n",
      " 'Running Reverse Layup Shot' 'Driving Bank shot'\n",
      " 'Driving Floating Bank Jump Shot']\n",
      "Unique combined shot types: ['Jump Shot' 'Layup' 'Tip Shot' 'Dunk' 'Bank Shot' 'Hook Shot']\n",
      "Unique shot types: ['2PT Field Goal' '3PT Field Goal']\n"
     ]
    }
   ],
   "source": [
    "print(f'Unique action types: {train_sample.action_type.unique()}')\n",
    "print(f'Unique combined shot types: {train_sample.combined_shot_type.unique()}')\n",
    "print(f'Unique shot types: {train_sample.shot_type.unique()}')"
   ]
  },
  {
   "cell_type": "markdown",
   "metadata": {},
   "source": [
    "Так как action_types, combined_shot_types обладает достаточно большим набором уникальных значений, применим к ним метод woe, чтобы не раздувать размерность наших данных"
   ]
  },
  {
   "cell_type": "code",
   "execution_count": 76,
   "metadata": {},
   "outputs": [
    {
     "name": "stderr",
     "output_type": "stream",
     "text": [
      "/anaconda3/lib/python3.7/site-packages/ipykernel_launcher.py:11: SettingWithCopyWarning: \n",
      "A value is trying to be set on a copy of a slice from a DataFrame.\n",
      "Try using .loc[row_indexer,col_indexer] = value instead\n",
      "\n",
      "See the caveats in the documentation: http://pandas.pydata.org/pandas-docs/stable/indexing.html#indexing-view-versus-copy\n",
      "  # This is added back by InteractiveShellApp.init_path()\n",
      "/anaconda3/lib/python3.7/site-packages/ipykernel_launcher.py:12: SettingWithCopyWarning: \n",
      "A value is trying to be set on a copy of a slice from a DataFrame.\n",
      "Try using .loc[row_indexer,col_indexer] = value instead\n",
      "\n",
      "See the caveats in the documentation: http://pandas.pydata.org/pandas-docs/stable/indexing.html#indexing-view-versus-copy\n",
      "  if sys.path[0] == '':\n",
      "/anaconda3/lib/python3.7/site-packages/pandas/core/frame.py:3697: SettingWithCopyWarning: \n",
      "A value is trying to be set on a copy of a slice from a DataFrame\n",
      "\n",
      "See the caveats in the documentation: http://pandas.pydata.org/pandas-docs/stable/indexing.html#indexing-view-versus-copy\n",
      "  errors=errors)\n"
     ]
    }
   ],
   "source": [
    "for col in ('action_type', 'combined_shot_type'):\n",
    "    train_sample, test_sample = get_woe_v1(\n",
    "        df_train=train_sample,\n",
    "        df_test=test_sample,\n",
    "        col=col,\n",
    "        target_col='shot_made_flag'\n",
    "    )\n",
    "    drop_column(train_sample, test_sample, col)"
   ]
  },
  {
   "cell_type": "code",
   "execution_count": 77,
   "metadata": {},
   "outputs": [
    {
     "data": {
      "text/html": [
       "<div>\n",
       "<style scoped>\n",
       "    .dataframe tbody tr th:only-of-type {\n",
       "        vertical-align: middle;\n",
       "    }\n",
       "\n",
       "    .dataframe tbody tr th {\n",
       "        vertical-align: top;\n",
       "    }\n",
       "\n",
       "    .dataframe thead th {\n",
       "        text-align: right;\n",
       "    }\n",
       "</style>\n",
       "<table border=\"1\" class=\"dataframe\">\n",
       "  <thead>\n",
       "    <tr style=\"text-align: right;\">\n",
       "      <th></th>\n",
       "      <th>action_type_woe</th>\n",
       "      <th>combined_shot_type_woe</th>\n",
       "    </tr>\n",
       "  </thead>\n",
       "  <tbody>\n",
       "    <tr>\n",
       "      <th>1954</th>\n",
       "      <td>-0.499639</td>\n",
       "      <td>-0.226320</td>\n",
       "    </tr>\n",
       "    <tr>\n",
       "      <th>610</th>\n",
       "      <td>-0.499639</td>\n",
       "      <td>-0.226320</td>\n",
       "    </tr>\n",
       "    <tr>\n",
       "      <th>6303</th>\n",
       "      <td>-0.499639</td>\n",
       "      <td>-0.226320</td>\n",
       "    </tr>\n",
       "    <tr>\n",
       "      <th>5511</th>\n",
       "      <td>-0.257554</td>\n",
       "      <td>0.473742</td>\n",
       "    </tr>\n",
       "    <tr>\n",
       "      <th>20618</th>\n",
       "      <td>0.463590</td>\n",
       "      <td>-0.226320</td>\n",
       "    </tr>\n",
       "  </tbody>\n",
       "</table>\n",
       "</div>"
      ],
      "text/plain": [
       "       action_type_woe  combined_shot_type_woe\n",
       "1954         -0.499639               -0.226320\n",
       "610          -0.499639               -0.226320\n",
       "6303         -0.499639               -0.226320\n",
       "5511         -0.257554                0.473742\n",
       "20618         0.463590               -0.226320"
      ]
     },
     "execution_count": 77,
     "metadata": {},
     "output_type": "execute_result"
    }
   ],
   "source": [
    "train_sample[['action_type_woe', 'combined_shot_type_woe']].head()"
   ]
  },
  {
   "cell_type": "code",
   "execution_count": 78,
   "metadata": {},
   "outputs": [
    {
     "name": "stderr",
     "output_type": "stream",
     "text": [
      "/anaconda3/lib/python3.7/site-packages/ipykernel_launcher.py:3: SettingWithCopyWarning: \n",
      "A value is trying to be set on a copy of a slice from a DataFrame\n",
      "\n",
      "See the caveats in the documentation: http://pandas.pydata.org/pandas-docs/stable/indexing.html#indexing-view-versus-copy\n",
      "  This is separate from the ipykernel package so we can avoid doing imports until\n",
      "/anaconda3/lib/python3.7/site-packages/pandas/core/generic.py:7626: SettingWithCopyWarning: \n",
      "A value is trying to be set on a copy of a slice from a DataFrame\n",
      "\n",
      "See the caveats in the documentation: http://pandas.pydata.org/pandas-docs/stable/indexing.html#indexing-view-versus-copy\n",
      "  self._update_inplace(new_data)\n",
      "/anaconda3/lib/python3.7/site-packages/IPython/core/interactiveshell.py:2961: SettingWithCopyWarning: \n",
      "A value is trying to be set on a copy of a slice from a DataFrame\n",
      "\n",
      "See the caveats in the documentation: http://pandas.pydata.org/pandas-docs/stable/indexing.html#indexing-view-versus-copy\n",
      "  exec(code_obj, self.user_global_ns, self.user_ns)\n",
      "/anaconda3/lib/python3.7/site-packages/ipykernel_launcher.py:6: SettingWithCopyWarning: \n",
      "A value is trying to be set on a copy of a slice from a DataFrame\n",
      "\n",
      "See the caveats in the documentation: http://pandas.pydata.org/pandas-docs/stable/indexing.html#indexing-view-versus-copy\n",
      "  \n"
     ]
    }
   ],
   "source": [
    "# train_sample.where(~train_sample['action_type_woe'].notnull(), 0, inplace=True)\n",
    "nan_action_woe = ~train_sample['action_type_woe'].notnull()\n",
    "train_sample['action_type_woe'][nan_action_woe] = 0\n",
    "\n",
    "nan_action_woe = ~test_sample['action_type_woe'].notnull()\n",
    "test_sample['action_type_woe'][nan_action_woe] = 0"
   ]
  },
  {
   "cell_type": "markdown",
   "metadata": {},
   "source": [
    "Для параметра shot_type применим метод one hot encoding, т.к. уникальных значений всего два, "
   ]
  },
  {
   "cell_type": "code",
   "execution_count": 79,
   "metadata": {},
   "outputs": [],
   "source": [
    "train_sample, test_sample = one_hot_column(\n",
    "    df_train=train_sample,\n",
    "    df_test=test_sample,\n",
    "    col='shot_type',\n",
    "    indx_col='shot_id'\n",
    ")"
   ]
  },
  {
   "cell_type": "code",
   "execution_count": 80,
   "metadata": {},
   "outputs": [
    {
     "data": {
      "text/html": [
       "<div>\n",
       "<style scoped>\n",
       "    .dataframe tbody tr th:only-of-type {\n",
       "        vertical-align: middle;\n",
       "    }\n",
       "\n",
       "    .dataframe tbody tr th {\n",
       "        vertical-align: top;\n",
       "    }\n",
       "\n",
       "    .dataframe thead th {\n",
       "        text-align: right;\n",
       "    }\n",
       "</style>\n",
       "<table border=\"1\" class=\"dataframe\">\n",
       "  <thead>\n",
       "    <tr style=\"text-align: right;\">\n",
       "      <th></th>\n",
       "      <th>shot_type_2PT Field Goal</th>\n",
       "      <th>shot_type_3PT Field Goal</th>\n",
       "    </tr>\n",
       "  </thead>\n",
       "  <tbody>\n",
       "    <tr>\n",
       "      <th>10913</th>\n",
       "      <td>0</td>\n",
       "      <td>1</td>\n",
       "    </tr>\n",
       "    <tr>\n",
       "      <th>14878</th>\n",
       "      <td>1</td>\n",
       "      <td>0</td>\n",
       "    </tr>\n",
       "    <tr>\n",
       "      <th>28107</th>\n",
       "      <td>1</td>\n",
       "      <td>0</td>\n",
       "    </tr>\n",
       "    <tr>\n",
       "      <th>14858</th>\n",
       "      <td>0</td>\n",
       "      <td>1</td>\n",
       "    </tr>\n",
       "    <tr>\n",
       "      <th>11807</th>\n",
       "      <td>0</td>\n",
       "      <td>1</td>\n",
       "    </tr>\n",
       "    <tr>\n",
       "      <th>21850</th>\n",
       "      <td>1</td>\n",
       "      <td>0</td>\n",
       "    </tr>\n",
       "    <tr>\n",
       "      <th>16744</th>\n",
       "      <td>1</td>\n",
       "      <td>0</td>\n",
       "    </tr>\n",
       "    <tr>\n",
       "      <th>5555</th>\n",
       "      <td>1</td>\n",
       "      <td>0</td>\n",
       "    </tr>\n",
       "    <tr>\n",
       "      <th>6243</th>\n",
       "      <td>1</td>\n",
       "      <td>0</td>\n",
       "    </tr>\n",
       "    <tr>\n",
       "      <th>11184</th>\n",
       "      <td>1</td>\n",
       "      <td>0</td>\n",
       "    </tr>\n",
       "  </tbody>\n",
       "</table>\n",
       "</div>"
      ],
      "text/plain": [
       "       shot_type_2PT Field Goal  shot_type_3PT Field Goal\n",
       "10913                         0                         1\n",
       "14878                         1                         0\n",
       "28107                         1                         0\n",
       "14858                         0                         1\n",
       "11807                         0                         1\n",
       "21850                         1                         0\n",
       "16744                         1                         0\n",
       "5555                          1                         0\n",
       "6243                          1                         0\n",
       "11184                         1                         0"
      ]
     },
     "execution_count": 80,
     "metadata": {},
     "output_type": "execute_result"
    }
   ],
   "source": [
    "test_sample[['shot_type_2PT Field Goal', 'shot_type_3PT Field Goal']].head(10)"
   ]
  },
  {
   "cell_type": "markdown",
   "metadata": {},
   "source": [
    "### Рассмотрим game_event_id, game_id"
   ]
  },
  {
   "cell_type": "markdown",
   "metadata": {},
   "source": [
    "Параметр game_event_id, судя по всему, означает уникальный идентификатор конкретной игры. Так как он не несет никакой информации в реальном мире - удалим эту колонку."
   ]
  },
  {
   "cell_type": "code",
   "execution_count": 81,
   "metadata": {},
   "outputs": [],
   "source": [
    "train_sample, test_sample = drop_column(df_train=train_sample, df_test=test_sample, col='game_event_id')\n",
    "train_sample, test_sample = drop_column(df_train=train_sample, df_test=test_sample, col='game_id')"
   ]
  },
  {
   "cell_type": "markdown",
   "metadata": {},
   "source": [
    "#### Рассмотрим позиционные параметры lat, lon, loc_x, loc_y"
   ]
  },
  {
   "cell_type": "code",
   "execution_count": 82,
   "metadata": {},
   "outputs": [
    {
     "data": {
      "text/html": [
       "<div>\n",
       "<style scoped>\n",
       "    .dataframe tbody tr th:only-of-type {\n",
       "        vertical-align: middle;\n",
       "    }\n",
       "\n",
       "    .dataframe tbody tr th {\n",
       "        vertical-align: top;\n",
       "    }\n",
       "\n",
       "    .dataframe thead th {\n",
       "        text-align: right;\n",
       "    }\n",
       "</style>\n",
       "<table border=\"1\" class=\"dataframe\">\n",
       "  <thead>\n",
       "    <tr style=\"text-align: right;\">\n",
       "      <th></th>\n",
       "      <th>loc_x</th>\n",
       "      <th>loc_y</th>\n",
       "      <th>lat</th>\n",
       "      <th>lon</th>\n",
       "    </tr>\n",
       "  </thead>\n",
       "  <tbody>\n",
       "    <tr>\n",
       "      <th>1954</th>\n",
       "      <td>51</td>\n",
       "      <td>184</td>\n",
       "      <td>33.8603</td>\n",
       "      <td>-118.2188</td>\n",
       "    </tr>\n",
       "    <tr>\n",
       "      <th>610</th>\n",
       "      <td>47</td>\n",
       "      <td>236</td>\n",
       "      <td>33.8083</td>\n",
       "      <td>-118.2228</td>\n",
       "    </tr>\n",
       "    <tr>\n",
       "      <th>6303</th>\n",
       "      <td>118</td>\n",
       "      <td>137</td>\n",
       "      <td>33.9073</td>\n",
       "      <td>-118.1518</td>\n",
       "    </tr>\n",
       "    <tr>\n",
       "      <th>5511</th>\n",
       "      <td>0</td>\n",
       "      <td>0</td>\n",
       "      <td>34.0443</td>\n",
       "      <td>-118.2698</td>\n",
       "    </tr>\n",
       "    <tr>\n",
       "      <th>20618</th>\n",
       "      <td>-82</td>\n",
       "      <td>71</td>\n",
       "      <td>33.9733</td>\n",
       "      <td>-118.3518</td>\n",
       "    </tr>\n",
       "    <tr>\n",
       "      <th>15792</th>\n",
       "      <td>0</td>\n",
       "      <td>0</td>\n",
       "      <td>34.0443</td>\n",
       "      <td>-118.2698</td>\n",
       "    </tr>\n",
       "    <tr>\n",
       "      <th>29581</th>\n",
       "      <td>-139</td>\n",
       "      <td>72</td>\n",
       "      <td>33.9723</td>\n",
       "      <td>-118.4088</td>\n",
       "    </tr>\n",
       "    <tr>\n",
       "      <th>23920</th>\n",
       "      <td>-31</td>\n",
       "      <td>16</td>\n",
       "      <td>34.0283</td>\n",
       "      <td>-118.3008</td>\n",
       "    </tr>\n",
       "    <tr>\n",
       "      <th>4185</th>\n",
       "      <td>71</td>\n",
       "      <td>31</td>\n",
       "      <td>34.0133</td>\n",
       "      <td>-118.1988</td>\n",
       "    </tr>\n",
       "    <tr>\n",
       "      <th>16005</th>\n",
       "      <td>-51</td>\n",
       "      <td>91</td>\n",
       "      <td>33.9533</td>\n",
       "      <td>-118.3208</td>\n",
       "    </tr>\n",
       "  </tbody>\n",
       "</table>\n",
       "</div>"
      ],
      "text/plain": [
       "       loc_x  loc_y      lat       lon\n",
       "1954      51    184  33.8603 -118.2188\n",
       "610       47    236  33.8083 -118.2228\n",
       "6303     118    137  33.9073 -118.1518\n",
       "5511       0      0  34.0443 -118.2698\n",
       "20618    -82     71  33.9733 -118.3518\n",
       "15792      0      0  34.0443 -118.2698\n",
       "29581   -139     72  33.9723 -118.4088\n",
       "23920    -31     16  34.0283 -118.3008\n",
       "4185      71     31  34.0133 -118.1988\n",
       "16005    -51     91  33.9533 -118.3208"
      ]
     },
     "execution_count": 82,
     "metadata": {},
     "output_type": "execute_result"
    }
   ],
   "source": [
    "train_sample[['loc_x', 'loc_y', 'lat', 'lon']].head(10)"
   ]
  },
  {
   "cell_type": "code",
   "execution_count": 83,
   "metadata": {},
   "outputs": [
    {
     "data": {
      "text/html": [
       "<div>\n",
       "<style scoped>\n",
       "    .dataframe tbody tr th:only-of-type {\n",
       "        vertical-align: middle;\n",
       "    }\n",
       "\n",
       "    .dataframe tbody tr th {\n",
       "        vertical-align: top;\n",
       "    }\n",
       "\n",
       "    .dataframe thead th {\n",
       "        text-align: right;\n",
       "    }\n",
       "</style>\n",
       "<table border=\"1\" class=\"dataframe\">\n",
       "  <thead>\n",
       "    <tr style=\"text-align: right;\">\n",
       "      <th></th>\n",
       "      <th>loc_x</th>\n",
       "      <th>loc_y</th>\n",
       "      <th>lat</th>\n",
       "      <th>lon</th>\n",
       "    </tr>\n",
       "  </thead>\n",
       "  <tbody>\n",
       "    <tr>\n",
       "      <th>count</th>\n",
       "      <td>20557.000000</td>\n",
       "      <td>20557.000000</td>\n",
       "      <td>20557.000000</td>\n",
       "      <td>20557.000000</td>\n",
       "    </tr>\n",
       "    <tr>\n",
       "      <th>mean</th>\n",
       "      <td>7.404193</td>\n",
       "      <td>91.482755</td>\n",
       "      <td>33.952817</td>\n",
       "      <td>-118.262396</td>\n",
       "    </tr>\n",
       "    <tr>\n",
       "      <th>std</th>\n",
       "      <td>110.183649</td>\n",
       "      <td>87.818776</td>\n",
       "      <td>0.087819</td>\n",
       "      <td>0.110184</td>\n",
       "    </tr>\n",
       "    <tr>\n",
       "      <th>min</th>\n",
       "      <td>-248.000000</td>\n",
       "      <td>-44.000000</td>\n",
       "      <td>33.253300</td>\n",
       "      <td>-118.517800</td>\n",
       "    </tr>\n",
       "    <tr>\n",
       "      <th>25%</th>\n",
       "      <td>-67.000000</td>\n",
       "      <td>4.000000</td>\n",
       "      <td>33.884300</td>\n",
       "      <td>-118.336800</td>\n",
       "    </tr>\n",
       "    <tr>\n",
       "      <th>50%</th>\n",
       "      <td>0.000000</td>\n",
       "      <td>74.000000</td>\n",
       "      <td>33.970300</td>\n",
       "      <td>-118.269800</td>\n",
       "    </tr>\n",
       "    <tr>\n",
       "      <th>75%</th>\n",
       "      <td>95.000000</td>\n",
       "      <td>160.000000</td>\n",
       "      <td>34.040300</td>\n",
       "      <td>-118.174800</td>\n",
       "    </tr>\n",
       "    <tr>\n",
       "      <th>max</th>\n",
       "      <td>248.000000</td>\n",
       "      <td>791.000000</td>\n",
       "      <td>34.088300</td>\n",
       "      <td>-118.021800</td>\n",
       "    </tr>\n",
       "  </tbody>\n",
       "</table>\n",
       "</div>"
      ],
      "text/plain": [
       "              loc_x         loc_y           lat           lon\n",
       "count  20557.000000  20557.000000  20557.000000  20557.000000\n",
       "mean       7.404193     91.482755     33.952817   -118.262396\n",
       "std      110.183649     87.818776      0.087819      0.110184\n",
       "min     -248.000000    -44.000000     33.253300   -118.517800\n",
       "25%      -67.000000      4.000000     33.884300   -118.336800\n",
       "50%        0.000000     74.000000     33.970300   -118.269800\n",
       "75%       95.000000    160.000000     34.040300   -118.174800\n",
       "max      248.000000    791.000000     34.088300   -118.021800"
      ]
     },
     "execution_count": 83,
     "metadata": {},
     "output_type": "execute_result"
    }
   ],
   "source": [
    "train_sample[['loc_x', 'loc_y', 'lat', 'lon']].describe()"
   ]
  },
  {
   "cell_type": "markdown",
   "metadata": {},
   "source": [
    "Визуализируем переменные на графике"
   ]
  },
  {
   "cell_type": "code",
   "execution_count": 84,
   "metadata": {},
   "outputs": [
    {
     "data": {
      "text/plain": [
       "Text(0.5,1,'lat and lon')"
      ]
     },
     "execution_count": 84,
     "metadata": {},
     "output_type": "execute_result"
    },
    {
     "data": {
      "image/png": "[encoded data removed]",
      "text/plain": [
       "<Figure size 720x720 with 2 Axes>"
      ]
     },
     "metadata": {
      "needs_background": "light"
     },
     "output_type": "display_data"
    }
   ],
   "source": [
    "alpha = 0.05\n",
    "plt.figure(figsize=(10,10))\n",
    "\n",
    "# loc_x and loc_y\n",
    "plt.subplot(121)\n",
    "plt.scatter(raw_data.loc_x, raw_data.loc_y, color='blue', alpha=alpha)\n",
    "plt.title('loc_x and loc_y')\n",
    "\n",
    "# lat and lon\n",
    "plt.subplot(122)\n",
    "plt.scatter(raw_data.lon, raw_data.lat, color='green', alpha=alpha)\n",
    "plt.title('lat and lon')"
   ]
  },
  {
   "cell_type": "markdown",
   "metadata": {},
   "source": [
    "Параметры loc_x, loc_y - определенно говорят о позиции игрока в момент броска.\n",
    "С помощью параметров loc_x, loc_y поссчитаем растояние от кольца - distance, а так же угол, по отношению к кольцу, с которого был осуществлен бросок - angle.\n",
    "\n",
    "Переменные lat, lng уберем из данных, так как с помощью loc_x, loc_y можно полностью смоделировать бросок и положение игрока"
   ]
  },
  {
   "cell_type": "code",
   "execution_count": 85,
   "metadata": {},
   "outputs": [],
   "source": [
    "def add_distance_and_angle(df):\n",
    "    df['distance'] = df[['loc_x', 'loc_y']]\\\n",
    "        .apply(lambda row: np.sqrt(row['loc_x']**2 + row['loc_y']**2), axis=1)\n",
    "    \n",
    "    df['angle'] = df[['loc_x', 'loc_y']]\\\n",
    "        .apply(lambda row: np.arctan(row['loc_y'] / row['loc_x']) if row['loc_x'] != 0 else np.pi / 2, axis=1)\n",
    "    return df\n",
    "\n",
    "\n",
    "train_sample = add_distance_and_angle(train_sample)\n",
    "test_sample = add_distance_and_angle(test_sample)"
   ]
  },
  {
   "cell_type": "markdown",
   "metadata": {},
   "source": [
    "Так как теперь мы имеем дистанцию, с которой выполнялся бросок, а так же угол, остальные позиционные координаты можно отбросить, так как, вероятнее всего, они будут являться линейной комбинацией дистанции и угла."
   ]
  },
  {
   "cell_type": "code",
   "execution_count": 86,
   "metadata": {},
   "outputs": [],
   "source": [
    "for col in ('loc_x', 'loc_y', 'lat', 'lon', 'shot_distance', 'shot_zone_area', 'shot_zone_basic', 'shot_zone_range'):\n",
    "    train_sample, test_sample = drop_column(train_sample, test_sample, col)"
   ]
  },
  {
   "cell_type": "markdown",
   "metadata": {},
   "source": [
    "#### Далее, рассмотрим matchup, opponent, team_name, team_id"
   ]
  },
  {
   "cell_type": "markdown",
   "metadata": {},
   "source": [
    "team_id - данная меременная говорит нам об идентификаторе команды, который присваивается каждой команде"
   ]
  },
  {
   "cell_type": "code",
   "execution_count": 87,
   "metadata": {},
   "outputs": [
    {
     "data": {
      "text/plain": [
       "1610612747    20557\n",
       "Name: team_id, dtype: int64"
      ]
     },
     "execution_count": 87,
     "metadata": {},
     "output_type": "execute_result"
    }
   ],
   "source": [
    "train_sample['team_id'].value_counts()"
   ]
  },
  {
   "cell_type": "code",
   "execution_count": 88,
   "metadata": {},
   "outputs": [
    {
     "data": {
      "text/plain": [
       "Los Angeles Lakers    20557\n",
       "Name: team_name, dtype: int64"
      ]
     },
     "execution_count": 88,
     "metadata": {},
     "output_type": "execute_result"
    }
   ],
   "source": [
    "train_sample['team_name'].value_counts()"
   ]
  },
  {
   "cell_type": "markdown",
   "metadata": {},
   "source": [
    "Как мы можем наблюдать, Коби играл все время в одной команде, поэтому такие переменные, как matchup, team_name, team_id можно смело удалить. Очтавим только переменную opponent, так как она характеризует противника. Для кодирования данной переменной так же используем woe, чтобы не увелиивать размерность наших дланных"
   ]
  },
  {
   "cell_type": "code",
   "execution_count": 89,
   "metadata": {},
   "outputs": [],
   "source": [
    "for col in ('matchup', 'team_name', 'team_id'):\n",
    "    train_sample, test_sample = drop_column(train_sample, test_sample, col)"
   ]
  },
  {
   "cell_type": "code",
   "execution_count": 90,
   "metadata": {},
   "outputs": [],
   "source": [
    "train_sample, test_sample = get_woe_v1(\n",
    "    df_test=test_sample,\n",
    "    df_train=train_sample,\n",
    "    col='opponent',\n",
    "    target_col='shot_made_flag'\n",
    ")\n",
    "train_sample, test_sample = drop_column(df_test=test_sample, df_train=train_sample, col='opponent')"
   ]
  },
  {
   "cell_type": "markdown",
   "metadata": {},
   "source": [
    "#### Далее рассмотрим переменные, связанные со временем"
   ]
  },
  {
   "cell_type": "markdown",
   "metadata": {},
   "source": [
    "Можно выделить две группы переменных:\n",
    "1. Характеризует время во время матча (minutes_remaining, period, seconds_remaining)\n",
    "2. Характеризует текущую дату (season, game_date) \n",
    "\n",
    "Группу номер 1 можно обхединить в одну переменную - кол-во секунд с начала матча, что позволит сократить размерность.\n",
    "Из группы номер 2 можно оставить только переменную game_date, так как season - это просто годы, в который проводился игровой сезон."
   ]
  },
  {
   "cell_type": "code",
   "execution_count": 91,
   "metadata": {},
   "outputs": [],
   "source": [
    "def estimate_seconds_from_match_start(df_train, df_test):\n",
    "    MIN_IN_PERIOD = 12\n",
    "    df_train['seconds_from_match_start'] = (df_train['period'] - 1) * MIN_IN_PERIOD * 60 \\\n",
    "        + (MIN_IN_PERIOD * 60 - df_train['minutes_remaining'] * 60 - df_train['seconds_remaining'])\n",
    "    \n",
    "    df_test['seconds_from_match_start'] = (df_test['period'] - 1) * MIN_IN_PERIOD * 60 \\\n",
    "        + (MIN_IN_PERIOD * 60 - df_test['minutes_remaining'] * 60 - df_test['seconds_remaining'])\n",
    "    \n",
    "    return df_train, df_test\n",
    "\n",
    "train_sample, test_sample = estimate_seconds_from_match_start(df_train=train_sample, df_test=test_sample)"
   ]
  },
  {
   "cell_type": "code",
   "execution_count": 92,
   "metadata": {},
   "outputs": [],
   "source": [
    "for col in ('minutes_remaining', 'period', 'seconds_remaining', 'season'):\n",
    "    train_sample, test_sample = drop_column(df_test=test_sample, df_train=train_sample, col=col)"
   ]
  },
  {
   "cell_type": "code",
   "execution_count": 93,
   "metadata": {},
   "outputs": [],
   "source": [
    "import datetime\n",
    "import time\n",
    "\n",
    "train_sample['game_date_timestamp'] = train_sample.apply(\n",
    "    lambda row: time.mktime(datetime.datetime.strptime(row['game_date'], '%Y-%m-%d').timetuple()),\n",
    "    axis=1\n",
    ")\n",
    "\n",
    "test_sample['game_date_timestamp'] = test_sample.apply(\n",
    "    lambda row: time.mktime(datetime.datetime.strptime(row['game_date'], '%Y-%m-%d').timetuple()),\n",
    "    axis=1\n",
    ")\n",
    "\n",
    "train_sample, test_sample = drop_column(df_test=test_sample, df_train=train_sample, col='game_date')"
   ]
  },
  {
   "cell_type": "markdown",
   "metadata": {},
   "source": [
    "#### Рассмотрим переменную playoffs"
   ]
  },
  {
   "cell_type": "code",
   "execution_count": 94,
   "metadata": {},
   "outputs": [
    {
     "data": {
      "text/plain": [
       "array([0, 1])"
      ]
     },
     "execution_count": 94,
     "metadata": {},
     "output_type": "execute_result"
    }
   ],
   "source": [
    "train_sample['playoffs'].unique()"
   ]
  },
  {
   "cell_type": "markdown",
   "metadata": {},
   "source": [
    "Данная переменная символизируется собой игру в плей-офф."
   ]
  },
  {
   "cell_type": "code",
   "execution_count": 95,
   "metadata": {},
   "outputs": [
    {
     "data": {
      "text/html": [
       "<div>\n",
       "<style scoped>\n",
       "    .dataframe tbody tr th:only-of-type {\n",
       "        vertical-align: middle;\n",
       "    }\n",
       "\n",
       "    .dataframe tbody tr th {\n",
       "        vertical-align: top;\n",
       "    }\n",
       "\n",
       "    .dataframe thead th {\n",
       "        text-align: right;\n",
       "    }\n",
       "</style>\n",
       "<table border=\"1\" class=\"dataframe\">\n",
       "  <thead>\n",
       "    <tr style=\"text-align: right;\">\n",
       "      <th></th>\n",
       "      <th>playoffs</th>\n",
       "      <th>shot_made_flag</th>\n",
       "      <th>shot_id</th>\n",
       "      <th>action_type_woe</th>\n",
       "      <th>combined_shot_type_woe</th>\n",
       "      <th>shot_type_2PT Field Goal</th>\n",
       "      <th>shot_type_3PT Field Goal</th>\n",
       "      <th>distance</th>\n",
       "      <th>angle</th>\n",
       "      <th>opponent_woe</th>\n",
       "      <th>seconds_from_match_start</th>\n",
       "      <th>game_date_timestamp</th>\n",
       "    </tr>\n",
       "  </thead>\n",
       "  <tbody>\n",
       "    <tr>\n",
       "      <th>1954</th>\n",
       "      <td>0</td>\n",
       "      <td>0.0</td>\n",
       "      <td>1955</td>\n",
       "      <td>-0.499639</td>\n",
       "      <td>-0.226320</td>\n",
       "      <td>1</td>\n",
       "      <td>0</td>\n",
       "      <td>190.937162</td>\n",
       "      <td>1.300410</td>\n",
       "      <td>-0.038085</td>\n",
       "      <td>1295</td>\n",
       "      <td>1.009228e+09</td>\n",
       "    </tr>\n",
       "    <tr>\n",
       "      <th>610</th>\n",
       "      <td>0</td>\n",
       "      <td>0.0</td>\n",
       "      <td>611</td>\n",
       "      <td>-0.499639</td>\n",
       "      <td>-0.226320</td>\n",
       "      <td>0</td>\n",
       "      <td>1</td>\n",
       "      <td>240.634578</td>\n",
       "      <td>1.374216</td>\n",
       "      <td>-0.078513</td>\n",
       "      <td>766</td>\n",
       "      <td>9.771732e+08</td>\n",
       "    </tr>\n",
       "    <tr>\n",
       "      <th>6303</th>\n",
       "      <td>0</td>\n",
       "      <td>1.0</td>\n",
       "      <td>6304</td>\n",
       "      <td>-0.499639</td>\n",
       "      <td>-0.226320</td>\n",
       "      <td>1</td>\n",
       "      <td>0</td>\n",
       "      <td>180.812057</td>\n",
       "      <td>0.859771</td>\n",
       "      <td>0.031841</td>\n",
       "      <td>1252</td>\n",
       "      <td>1.100034e+09</td>\n",
       "    </tr>\n",
       "    <tr>\n",
       "      <th>5511</th>\n",
       "      <td>0</td>\n",
       "      <td>0.0</td>\n",
       "      <td>5512</td>\n",
       "      <td>-0.257554</td>\n",
       "      <td>0.473742</td>\n",
       "      <td>1</td>\n",
       "      <td>0</td>\n",
       "      <td>0.000000</td>\n",
       "      <td>1.570796</td>\n",
       "      <td>0.038292</td>\n",
       "      <td>2606</td>\n",
       "      <td>1.073164e+09</td>\n",
       "    </tr>\n",
       "    <tr>\n",
       "      <th>20618</th>\n",
       "      <td>0</td>\n",
       "      <td>1.0</td>\n",
       "      <td>20619</td>\n",
       "      <td>0.463590</td>\n",
       "      <td>-0.226320</td>\n",
       "      <td>1</td>\n",
       "      <td>0</td>\n",
       "      <td>108.466585</td>\n",
       "      <td>-0.713626</td>\n",
       "      <td>0.004084</td>\n",
       "      <td>2157</td>\n",
       "      <td>1.361995e+09</td>\n",
       "    </tr>\n",
       "  </tbody>\n",
       "</table>\n",
       "</div>"
      ],
      "text/plain": [
       "       playoffs  shot_made_flag  shot_id  action_type_woe  \\\n",
       "1954          0             0.0     1955        -0.499639   \n",
       "610           0             0.0      611        -0.499639   \n",
       "6303          0             1.0     6304        -0.499639   \n",
       "5511          0             0.0     5512        -0.257554   \n",
       "20618         0             1.0    20619         0.463590   \n",
       "\n",
       "       combined_shot_type_woe  shot_type_2PT Field Goal  \\\n",
       "1954                -0.226320                         1   \n",
       "610                 -0.226320                         0   \n",
       "6303                -0.226320                         1   \n",
       "5511                 0.473742                         1   \n",
       "20618               -0.226320                         1   \n",
       "\n",
       "       shot_type_3PT Field Goal    distance     angle  opponent_woe  \\\n",
       "1954                          0  190.937162  1.300410     -0.038085   \n",
       "610                           1  240.634578  1.374216     -0.078513   \n",
       "6303                          0  180.812057  0.859771      0.031841   \n",
       "5511                          0    0.000000  1.570796      0.038292   \n",
       "20618                         0  108.466585 -0.713626      0.004084   \n",
       "\n",
       "       seconds_from_match_start  game_date_timestamp  \n",
       "1954                       1295         1.009228e+09  \n",
       "610                         766         9.771732e+08  \n",
       "6303                       1252         1.100034e+09  \n",
       "5511                       2606         1.073164e+09  \n",
       "20618                      2157         1.361995e+09  "
      ]
     },
     "execution_count": 95,
     "metadata": {},
     "output_type": "execute_result"
    }
   ],
   "source": [
    "train_sample.head()"
   ]
  },
  {
   "cell_type": "code",
   "execution_count": 96,
   "metadata": {},
   "outputs": [
    {
     "name": "stdout",
     "output_type": "stream",
     "text": [
      "drop shot_id\n"
     ]
    }
   ],
   "source": [
    "train_sample, test_sample = drop_column(df_test=test_sample, df_train=train_sample, col='shot_id')\n",
    "print('drop shot_id')"
   ]
  },
  {
   "cell_type": "markdown",
   "metadata": {},
   "source": [
    "### Данные готовы. Теперь приступим к обучению моделей"
   ]
  },
  {
   "cell_type": "code",
   "execution_count": 97,
   "metadata": {},
   "outputs": [],
   "source": [
    "from sklearn.linear_model import LinearRegression\n",
    "import sklearn.metrics as sk_metrics\n",
    "\n",
    "import matplotlib.pyplot as plt\n",
    "import matplotlib\n",
    "%matplotlib inline"
   ]
  },
  {
   "cell_type": "code",
   "execution_count": 98,
   "metadata": {},
   "outputs": [
    {
     "data": {
      "text/html": [
       "<div>\n",
       "<style scoped>\n",
       "    .dataframe tbody tr th:only-of-type {\n",
       "        vertical-align: middle;\n",
       "    }\n",
       "\n",
       "    .dataframe tbody tr th {\n",
       "        vertical-align: top;\n",
       "    }\n",
       "\n",
       "    .dataframe thead th {\n",
       "        text-align: right;\n",
       "    }\n",
       "</style>\n",
       "<table border=\"1\" class=\"dataframe\">\n",
       "  <thead>\n",
       "    <tr style=\"text-align: right;\">\n",
       "      <th></th>\n",
       "      <th>playoffs</th>\n",
       "      <th>action_type_woe</th>\n",
       "      <th>combined_shot_type_woe</th>\n",
       "      <th>shot_type_2PT Field Goal</th>\n",
       "      <th>shot_type_3PT Field Goal</th>\n",
       "      <th>distance</th>\n",
       "      <th>angle</th>\n",
       "      <th>opponent_woe</th>\n",
       "      <th>seconds_from_match_start</th>\n",
       "      <th>game_date_timestamp</th>\n",
       "    </tr>\n",
       "  </thead>\n",
       "  <tbody>\n",
       "    <tr>\n",
       "      <th>10913</th>\n",
       "      <td>0</td>\n",
       "      <td>-0.499639</td>\n",
       "      <td>-0.226320</td>\n",
       "      <td>0</td>\n",
       "      <td>1</td>\n",
       "      <td>286.020978</td>\n",
       "      <td>0.735934</td>\n",
       "      <td>-0.038085</td>\n",
       "      <td>2623</td>\n",
       "      <td>1.173388e+09</td>\n",
       "    </tr>\n",
       "    <tr>\n",
       "      <th>14878</th>\n",
       "      <td>0</td>\n",
       "      <td>-0.499639</td>\n",
       "      <td>-0.226320</td>\n",
       "      <td>1</td>\n",
       "      <td>0</td>\n",
       "      <td>183.087411</td>\n",
       "      <td>1.063167</td>\n",
       "      <td>0.038292</td>\n",
       "      <td>1749</td>\n",
       "      <td>1.256591e+09</td>\n",
       "    </tr>\n",
       "    <tr>\n",
       "      <th>28107</th>\n",
       "      <td>1</td>\n",
       "      <td>-0.257554</td>\n",
       "      <td>0.473742</td>\n",
       "      <td>1</td>\n",
       "      <td>0</td>\n",
       "      <td>0.000000</td>\n",
       "      <td>1.570796</td>\n",
       "      <td>0.031589</td>\n",
       "      <td>2007</td>\n",
       "      <td>1.209154e+09</td>\n",
       "    </tr>\n",
       "    <tr>\n",
       "      <th>14858</th>\n",
       "      <td>0</td>\n",
       "      <td>-0.499639</td>\n",
       "      <td>-0.226320</td>\n",
       "      <td>0</td>\n",
       "      <td>1</td>\n",
       "      <td>254.578082</td>\n",
       "      <td>1.361075</td>\n",
       "      <td>-0.047190</td>\n",
       "      <td>1740</td>\n",
       "      <td>1.239653e+09</td>\n",
       "    </tr>\n",
       "    <tr>\n",
       "      <th>11807</th>\n",
       "      <td>0</td>\n",
       "      <td>-0.499639</td>\n",
       "      <td>-0.226320</td>\n",
       "      <td>0</td>\n",
       "      <td>1</td>\n",
       "      <td>233.683547</td>\n",
       "      <td>-0.120109</td>\n",
       "      <td>0.004084</td>\n",
       "      <td>184</td>\n",
       "      <td>1.196716e+09</td>\n",
       "    </tr>\n",
       "  </tbody>\n",
       "</table>\n",
       "</div>"
      ],
      "text/plain": [
       "       playoffs  action_type_woe  combined_shot_type_woe  \\\n",
       "10913         0        -0.499639               -0.226320   \n",
       "14878         0        -0.499639               -0.226320   \n",
       "28107         1        -0.257554                0.473742   \n",
       "14858         0        -0.499639               -0.226320   \n",
       "11807         0        -0.499639               -0.226320   \n",
       "\n",
       "       shot_type_2PT Field Goal  shot_type_3PT Field Goal    distance  \\\n",
       "10913                         0                         1  286.020978   \n",
       "14878                         1                         0  183.087411   \n",
       "28107                         1                         0    0.000000   \n",
       "14858                         0                         1  254.578082   \n",
       "11807                         0                         1  233.683547   \n",
       "\n",
       "          angle  opponent_woe  seconds_from_match_start  game_date_timestamp  \n",
       "10913  0.735934     -0.038085                      2623         1.173388e+09  \n",
       "14878  1.063167      0.038292                      1749         1.256591e+09  \n",
       "28107  1.570796      0.031589                      2007         1.209154e+09  \n",
       "14858  1.361075     -0.047190                      1740         1.239653e+09  \n",
       "11807 -0.120109      0.004084                       184         1.196716e+09  "
      ]
     },
     "execution_count": 98,
     "metadata": {},
     "output_type": "execute_result"
    }
   ],
   "source": [
    "train_shot_made_flag = train_sample['shot_made_flag'].copy()\n",
    "test_shot_made_flag = test_sample['shot_made_flag'].copy()\n",
    "\n",
    "train_sample, test_sample = drop_column(df_test=test_sample, df_train=train_sample, col='shot_made_flag')\n",
    "test_sample.head()"
   ]
  },
  {
   "cell_type": "code",
   "execution_count": 181,
   "metadata": {},
   "outputs": [],
   "source": [
    "def draw_roc_auc(train_actual_vals, train_predictions, test_actual_vals, test_predictions, model_name):\n",
    "    '''\n",
    "    Draw roc auc rate\n",
    "    '''\n",
    "    roc_auc_train = np.round(sk_metrics.roc_auc_score(train_actual_vals, train_predictions), 5)\n",
    "    roc_auc_test = np.round(sk_metrics.roc_auc_score(test_actual_vals, test_predictions), 5)\n",
    "\n",
    "    fpr_train, tpr_train, thresholds_train = sk_metrics.roc_curve(train_actual_vals, train_predictions)\n",
    "    fpr_test, tpr_test, thresholds_test = sk_metrics.roc_curve(test_actual_vals, test_predictions)\n",
    "    \n",
    "    matplotlib.rcParams['figure.figsize'] = (10.0, 10.0)\n",
    "    plt.plot(fpr_train, tpr_train, label='Train ROC AUC {0}'.format(roc_auc_train))\n",
    "    plt.plot(fpr_test, tpr_test, label='Test ROC AUC {0}'.format(roc_auc_test))\n",
    "    plt.plot([0, 1], [0, 1], '--', color=(0.6, 0.6, 0.6))\n",
    "    plt.xlim([0, 1])\n",
    "    plt.ylim([0, 1])\n",
    "    plt.xlabel('False Positive Rate')\n",
    "    plt.ylabel('True Positive Rate')\n",
    "    plt.title(model_name, size=16)\n",
    "    plt.legend(loc='lower right')\n",
    "    plt.show()"
   ]
  },
  {
   "cell_type": "markdown",
   "metadata": {},
   "source": [
    "#### Linear regression"
   ]
  },
  {
   "cell_type": "code",
   "execution_count": 100,
   "metadata": {},
   "outputs": [
    {
     "data": {
      "text/plain": [
       "LinearRegression(copy_X=True, fit_intercept=True, n_jobs=None,\n",
       "         normalize=False)"
      ]
     },
     "execution_count": 100,
     "metadata": {},
     "output_type": "execute_result"
    }
   ],
   "source": [
    "lin_reg = LinearRegression()\n",
    "lin_reg.fit(train_sample, train_shot_made_flag)"
   ]
  },
  {
   "cell_type": "code",
   "execution_count": 101,
   "metadata": {},
   "outputs": [],
   "source": [
    "# on train sample\n",
    "linear_predictions_for_train = lin_reg.predict(train_sample)\n",
    "linear_predictions_for_test = lin_reg.predict(test_sample)"
   ]
  },
  {
   "cell_type": "code",
   "execution_count": 102,
   "metadata": {},
   "outputs": [
    {
     "name": "stdout",
     "output_type": "stream",
     "text": [
      "AUC for train 0.68533\n",
      "AUC for test 0.68705\n"
     ]
    }
   ],
   "source": [
    "linear_roc_auc_train = np.round(sk_metrics.roc_auc_score(train_shot_made_flag, linear_predictions_for_train), 5)\n",
    "linear_auc_test = np.round(sk_metrics.roc_auc_score(test_shot_made_flag, linear_predictions_for_test), 5)\n",
    "\n",
    "print(f'AUC for train {linear_roc_auc_train}')\n",
    "print(f'AUC for test {linear_auc_test}')"
   ]
  },
  {
   "cell_type": "code",
   "execution_count": 182,
   "metadata": {},
   "outputs": [
    {
     "data": {
      "image/png": "[encoded data removed]",
      "text/plain": [
       "<Figure size 720x720 with 1 Axes>"
      ]
     },
     "metadata": {
      "needs_background": "light"
     },
     "output_type": "display_data"
    }
   ],
   "source": [
    "draw_roc_auc(\n",
    "    train_actual_vals=train_shot_made_flag,\n",
    "    train_predictions=linear_predictions_for_train,\n",
    "    test_actual_vals=test_shot_made_flag,\n",
    "    test_predictions=linear_predictions_for_test,\n",
    "    model_name='Linear Regression'\n",
    ")"
   ]
  },
  {
   "cell_type": "markdown",
   "metadata": {},
   "source": [
    "Судя по всему, результат предсказания довольно средний."
   ]
  },
  {
   "cell_type": "code",
   "execution_count": 107,
   "metadata": {},
   "outputs": [],
   "source": [
    "#create coeffs matrix\n",
    "coeffs_matrix = np.full((1,10), np.array(train_sample.columns))\n",
    "coeffs_matrix = np.vstack([coeffs_matrix, lin_reg.coef_])"
   ]
  },
  {
   "cell_type": "markdown",
   "metadata": {},
   "source": [
    "##### подсчитаем RSS\n",
    "$$RSS = \\sum_{i=1}^n (y_i - \\beta_0 - \\sum_{j=1}^p \\beta_j * x_{ij})^2$$\n",
    "т.к. $\\sum_{j=1}^p \\beta_j * x_{ij} = \\bar {y_i}$, то"
   ]
  },
  {
   "cell_type": "code",
   "execution_count": 109,
   "metadata": {},
   "outputs": [
    {
     "data": {
      "text/plain": [
       "355.32329095205563"
      ]
     },
     "execution_count": 109,
     "metadata": {},
     "output_type": "execute_result"
    }
   ],
   "source": [
    "linear_rss = sum(test_shot_made_flag - linear_predictions_for_test)**2\n",
    "linear_rss"
   ]
  },
  {
   "cell_type": "markdown",
   "metadata": {},
   "source": [
    "#### Lasso"
   ]
  },
  {
   "cell_type": "code",
   "execution_count": 159,
   "metadata": {},
   "outputs": [
    {
     "data": {
      "text/plain": [
       "Lasso(alpha=1e-05, copy_X=True, fit_intercept=True, max_iter=1000,\n",
       "   normalize=False, positive=False, precompute=False, random_state=None,\n",
       "   selection='cyclic', tol=0.0001, warm_start=False)"
      ]
     },
     "execution_count": 159,
     "metadata": {},
     "output_type": "execute_result"
    }
   ],
   "source": [
    "from sklearn.linear_model import Lasso\n",
    "lasso_alpha = 0.00001\n",
    "lassoreg = Lasso(alpha=linear_alpha)\n",
    "lassoreg.fit(train_sample, train_shot_made_flag)"
   ]
  },
  {
   "cell_type": "code",
   "execution_count": 156,
   "metadata": {},
   "outputs": [],
   "source": [
    "lasso_train_prediction = lassoreg.predict(train_sample)\n",
    "lasso_test_prediction = lassoreg.predict(test_sample)"
   ]
  },
  {
   "cell_type": "code",
   "execution_count": 177,
   "metadata": {},
   "outputs": [
    {
     "name": "stdout",
     "output_type": "stream",
     "text": [
      "AUC for train 0.68532\n",
      "AUC for test 0.68709\n"
     ]
    }
   ],
   "source": [
    "lasso_roc_auc_train = np.round(sk_metrics.roc_auc_score(train_shot_made_flag, lasso_train_prediction), 5)\n",
    "lasso_auc_test = np.round(sk_metrics.roc_auc_score(test_shot_made_flag, lasso_test_prediction), 5)\n",
    "\n",
    "print(f'AUC for train {lasso_roc_auc_train}')\n",
    "print(f'AUC for test {lasso_auc_test}')"
   ]
  },
  {
   "cell_type": "code",
   "execution_count": 185,
   "metadata": {
    "scrolled": true
   },
   "outputs": [
    {
     "data": {
      "image/png": "[encoded data removed]",
      "text/plain": [
       "<Figure size 720x720 with 1 Axes>"
      ]
     },
     "metadata": {
      "needs_background": "light"
     },
     "output_type": "display_data"
    }
   ],
   "source": [
    "draw_roc_auc(\n",
    "    train_actual_vals=train_shot_made_flag,\n",
    "    train_predictions=lasso_train_prediction,\n",
    "    test_actual_vals=test_shot_made_flag,\n",
    "    test_predictions=lasso_test_prediction,\n",
    "    model_name='Lasso Regression'\n",
    ")\n"
   ]
  },
  {
   "cell_type": "code",
   "execution_count": 120,
   "metadata": {},
   "outputs": [],
   "source": [
    "coeffs_matrix = np.vstack([coeffs_matrix, lassoreg.coef_])"
   ]
  },
  {
   "cell_type": "markdown",
   "metadata": {},
   "source": [
    "###### Подсчитаем RSS\n",
    "$$RSS = \\sum_{i=1}^n (y_i - \\beta_0 - \\sum_{j=1}^p \\beta_j * x_{ij})^2 + \\lambda \\sum_{j=1}^p |\\beta_j|$$"
   ]
  },
  {
   "cell_type": "code",
   "execution_count": 178,
   "metadata": {},
   "outputs": [
    {
     "data": {
      "text/plain": [
       "355.3232953585971"
      ]
     },
     "execution_count": 178,
     "metadata": {},
     "output_type": "execute_result"
    }
   ],
   "source": [
    "lasso_rss = sum(test_shot_made_flag - linear_predictions_for_test)**2 + lasso_alpha * sum(abs(lassoreg.coef_))\n",
    "lasso_rss"
   ]
  },
  {
   "cell_type": "markdown",
   "metadata": {},
   "source": [
    "#### Ridge"
   ]
  },
  {
   "cell_type": "code",
   "execution_count": 124,
   "metadata": {},
   "outputs": [
    {
     "name": "stderr",
     "output_type": "stream",
     "text": [
      "/anaconda3/lib/python3.7/site-packages/sklearn/linear_model/ridge.py:125: LinAlgWarning: Ill-conditioned matrix (rcond=2.10171e-26): result may not be accurate.\n",
      "  overwrite_a=True).T\n"
     ]
    },
    {
     "data": {
      "text/plain": [
       "Ridge(alpha=1e-05, copy_X=True, fit_intercept=True, max_iter=None,\n",
       "   normalize=False, random_state=None, solver='auto', tol=0.001)"
      ]
     },
     "execution_count": 124,
     "metadata": {},
     "output_type": "execute_result"
    }
   ],
   "source": [
    "from sklearn.linear_model import Ridge\n",
    "ridge_alpha = 0.00001\n",
    "ridgereg = Ridge(alpha=ridge_alpha)\n",
    "ridgereg.fit(train_sample, train_shot_made_flag)"
   ]
  },
  {
   "cell_type": "code",
   "execution_count": 125,
   "metadata": {},
   "outputs": [],
   "source": [
    "ridge_train_prediction = ridgereg.predict(train_sample)\n",
    "ridge_test_prediction = ridgereg.predict(test_sample)"
   ]
  },
  {
   "cell_type": "code",
   "execution_count": 176,
   "metadata": {},
   "outputs": [
    {
     "name": "stdout",
     "output_type": "stream",
     "text": [
      "AUC for train 0.68533\n",
      "AUC for test 0.68705\n"
     ]
    }
   ],
   "source": [
    "ridge_roc_auc_train = np.round(sk_metrics.roc_auc_score(train_shot_made_flag, ridge_train_prediction), 5)\n",
    "ridge_auc_test = np.round(sk_metrics.roc_auc_score(test_shot_made_flag, ridge_test_prediction), 5)\n",
    "\n",
    "print(f'AUC for train {ridge_roc_auc_train}')\n",
    "print(f'AUC for test {ridge_auc_test}')"
   ]
  },
  {
   "cell_type": "code",
   "execution_count": 184,
   "metadata": {},
   "outputs": [
    {
     "data": {
      "image/png": "[encoded data removed]",
      "text/plain": [
       "<Figure size 720x720 with 1 Axes>"
      ]
     },
     "metadata": {
      "needs_background": "light"
     },
     "output_type": "display_data"
    }
   ],
   "source": [
    "draw_roc_auc(\n",
    "    train_actual_vals=train_shot_made_flag,\n",
    "    train_predictions=ridge_train_prediction,\n",
    "    test_actual_vals=test_shot_made_flag,\n",
    "    test_predictions=ridge_test_prediction,\n",
    "    model_name='Ridge Regression'\n",
    ")"
   ]
  },
  {
   "cell_type": "code",
   "execution_count": 128,
   "metadata": {},
   "outputs": [],
   "source": [
    "coeffs_matrix = np.vstack([coeffs_matrix, ridgereg.coef_])"
   ]
  },
  {
   "cell_type": "markdown",
   "metadata": {},
   "source": [
    "##### Подсчитаем RSS\n",
    "$$RSS = \\sum_{i=1}^n (y_i - \\beta_0 - \\sum_{j=1}^p \\beta_j * x_{ij})^2 + \\lambda \\sum_{j=1}^p \\beta_j^2$$"
   ]
  },
  {
   "cell_type": "code",
   "execution_count": 131,
   "metadata": {},
   "outputs": [
    {
     "data": {
      "text/plain": [
       "355.32329165224445"
      ]
     },
     "execution_count": 131,
     "metadata": {},
     "output_type": "execute_result"
    }
   ],
   "source": [
    "ridge_rss = sum(test_shot_made_flag - linear_predictions_for_test)**2 + alpha * sum(ridgereg.coef_ ** 2)\n",
    "ridge_rss"
   ]
  },
  {
   "cell_type": "markdown",
   "metadata": {},
   "source": [
    "#### Cравнение коэффициентов"
   ]
  },
  {
   "cell_type": "markdown",
   "metadata": {},
   "source": [
    "###### RSS"
   ]
  },
  {
   "cell_type": "code",
   "execution_count": 133,
   "metadata": {},
   "outputs": [
    {
     "name": "stdout",
     "output_type": "stream",
     "text": [
      "Linear regression RSS 355.32329095205563\n",
      "Lasso regression RSS 355.3232953585971\n",
      "Ridge regression RSS 355.32329165224445\n"
     ]
    }
   ],
   "source": [
    "print(f'Linear regression RSS {linear_rss}')\n",
    "print(f'Lasso regression RSS {lasso_rss}')\n",
    "print(f'Ridge regression RSS {ridge_rss}')"
   ]
  },
  {
   "cell_type": "code",
   "execution_count": 180,
   "metadata": {},
   "outputs": [
    {
     "name": "stdout",
     "output_type": "stream",
     "text": [
      "ROC AUC linear test 0.68705\n",
      "ROC AUC lasso test 0.68709\n",
      "ROC AUC ridge test 0.68705\n"
     ]
    }
   ],
   "source": [
    "print(f'ROC AUC linear test {linear_auc_test}')\n",
    "print(f'ROC AUC lasso test {lasso_auc_test}')\n",
    "print(f'ROC AUC ridge test {ridge_auc_test}')"
   ]
  },
  {
   "cell_type": "markdown",
   "metadata": {},
   "source": [
    "##### Коэффициенты построенных регресссий"
   ]
  },
  {
   "cell_type": "code",
   "execution_count": 161,
   "metadata": {},
   "outputs": [
    {
     "data": {
      "text/html": [
       "<div>\n",
       "<style scoped>\n",
       "    .dataframe tbody tr th:only-of-type {\n",
       "        vertical-align: middle;\n",
       "    }\n",
       "\n",
       "    .dataframe tbody tr th {\n",
       "        vertical-align: top;\n",
       "    }\n",
       "\n",
       "    .dataframe thead th {\n",
       "        text-align: right;\n",
       "    }\n",
       "</style>\n",
       "<table border=\"1\" class=\"dataframe\">\n",
       "  <thead>\n",
       "    <tr style=\"text-align: right;\">\n",
       "      <th></th>\n",
       "      <th>playoffs</th>\n",
       "      <th>action_type_woe</th>\n",
       "      <th>combined_shot_type_woe</th>\n",
       "      <th>shot_type_2PT Field Goal</th>\n",
       "      <th>shot_type_3PT Field Goal</th>\n",
       "      <th>distance</th>\n",
       "      <th>angle</th>\n",
       "      <th>opponent_woe</th>\n",
       "      <th>seconds_from_match_start</th>\n",
       "      <th>game_date_timestamp</th>\n",
       "    </tr>\n",
       "  </thead>\n",
       "  <tbody>\n",
       "    <tr>\n",
       "      <th>0</th>\n",
       "      <td>0.0027653</td>\n",
       "      <td>0.201193</td>\n",
       "      <td>-0.0609525</td>\n",
       "      <td>0.00506273</td>\n",
       "      <td>-0.00506273</td>\n",
       "      <td>-0.000120517</td>\n",
       "      <td>0.00691886</td>\n",
       "      <td>0.160369</td>\n",
       "      <td>-1.90873e-05</td>\n",
       "      <td>-3.41864e-11</td>\n",
       "    </tr>\n",
       "    <tr>\n",
       "      <th>1</th>\n",
       "      <td>0.00267682</td>\n",
       "      <td>0.20115</td>\n",
       "      <td>-0.060878</td>\n",
       "      <td>0.010023</td>\n",
       "      <td>-2.52592e-18</td>\n",
       "      <td>-0.000120848</td>\n",
       "      <td>0.00689843</td>\n",
       "      <td>0.158888</td>\n",
       "      <td>-1.9092e-05</td>\n",
       "      <td>-3.42742e-11</td>\n",
       "    </tr>\n",
       "    <tr>\n",
       "      <th>2</th>\n",
       "      <td>0.0027653</td>\n",
       "      <td>0.201193</td>\n",
       "      <td>-0.0609525</td>\n",
       "      <td>0.00506274</td>\n",
       "      <td>-0.00506272</td>\n",
       "      <td>-0.000120517</td>\n",
       "      <td>0.00691886</td>\n",
       "      <td>0.160369</td>\n",
       "      <td>-1.90873e-05</td>\n",
       "      <td>-3.41864e-11</td>\n",
       "    </tr>\n",
       "  </tbody>\n",
       "</table>\n",
       "</div>"
      ],
      "text/plain": [
       "     playoffs action_type_woe combined_shot_type_woe shot_type_2PT Field Goal  \\\n",
       "0   0.0027653        0.201193             -0.0609525               0.00506273   \n",
       "1  0.00267682         0.20115              -0.060878                 0.010023   \n",
       "2   0.0027653        0.201193             -0.0609525               0.00506274   \n",
       "\n",
       "  shot_type_3PT Field Goal     distance       angle opponent_woe  \\\n",
       "0              -0.00506273 -0.000120517  0.00691886     0.160369   \n",
       "1             -2.52592e-18 -0.000120848  0.00689843     0.158888   \n",
       "2              -0.00506272 -0.000120517  0.00691886     0.160369   \n",
       "\n",
       "  seconds_from_match_start game_date_timestamp  \n",
       "0             -1.90873e-05        -3.41864e-11  \n",
       "1              -1.9092e-05        -3.42742e-11  \n",
       "2             -1.90873e-05        -3.41864e-11  "
      ]
     },
     "execution_count": 161,
     "metadata": {},
     "output_type": "execute_result"
    }
   ],
   "source": [
    "df = pd.DataFrame(columns=coeffs_matrix[0, 0:], data=coeffs_matrix[1:, 0:])\n",
    "df.head()"
   ]
  },
  {
   "cell_type": "markdown",
   "metadata": {},
   "source": [
    "Как мы видим, коэф. при колонках seconds_from_match_start, game_date_timestamp очень велики, это связано с тем, что значения в этих колонках имеют другой порядок и модель пытается занизить их значения. Нормализуем эти значения: "
   ]
  },
  {
   "cell_type": "code",
   "execution_count": 236,
   "metadata": {},
   "outputs": [],
   "source": [
    "def normalize(dataset, cols):\n",
    "    dataNorm = dataset.copy()\n",
    "    for col in ('seconds_from_match_start', 'game_date_timestamp'):\n",
    "        dataNorm[col] = ( ( dataset[col] - dataset[col].min() ) / ( dataset[col].max() - dataset[col].min() ) )\n",
    "    return dataNorm\n",
    "\n",
    "\n",
    "normalized_vals_train = normalize(train_sample, ('seconds_from_match_start', 'game_date_timestamp'))\n",
    "normalized_vals_test = normalize(test_sample, ('seconds_from_match_start', 'game_date_timestamp'))"
   ]
  },
  {
   "cell_type": "code",
   "execution_count": 237,
   "metadata": {},
   "outputs": [
    {
     "data": {
      "text/plain": [
       "LinearRegression(copy_X=True, fit_intercept=True, n_jobs=None,\n",
       "         normalize=False)"
      ]
     },
     "execution_count": 237,
     "metadata": {},
     "output_type": "execute_result"
    }
   ],
   "source": [
    "lin_reg = LinearRegression()\n",
    "lin_reg.fit(normalized_vals_train, train_shot_made_flag)"
   ]
  },
  {
   "cell_type": "code",
   "execution_count": 239,
   "metadata": {},
   "outputs": [],
   "source": [
    "df.loc[3] = lin_reg.coef_\n",
    "df['model_type'] = ['linear', 'lasso', 'ridge', 'linear_normilized']\n",
    "cols = df.columns.tolist()\n",
    "cols = cols[-1:] + cols[:-1]\n",
    "df = df[cols]"
   ]
  },
  {
   "cell_type": "code",
   "execution_count": 240,
   "metadata": {},
   "outputs": [
    {
     "data": {
      "text/html": [
       "<div>\n",
       "<style scoped>\n",
       "    .dataframe tbody tr th:only-of-type {\n",
       "        vertical-align: middle;\n",
       "    }\n",
       "\n",
       "    .dataframe tbody tr th {\n",
       "        vertical-align: top;\n",
       "    }\n",
       "\n",
       "    .dataframe thead th {\n",
       "        text-align: right;\n",
       "    }\n",
       "</style>\n",
       "<table border=\"1\" class=\"dataframe\">\n",
       "  <thead>\n",
       "    <tr style=\"text-align: right;\">\n",
       "      <th></th>\n",
       "      <th>model_type</th>\n",
       "      <th>playoffs</th>\n",
       "      <th>action_type_woe</th>\n",
       "      <th>combined_shot_type_woe</th>\n",
       "      <th>shot_type_2PT Field Goal</th>\n",
       "      <th>shot_type_3PT Field Goal</th>\n",
       "      <th>distance</th>\n",
       "      <th>angle</th>\n",
       "      <th>opponent_woe</th>\n",
       "      <th>seconds_from_match_start</th>\n",
       "      <th>game_date_timestamp</th>\n",
       "    </tr>\n",
       "  </thead>\n",
       "  <tbody>\n",
       "    <tr>\n",
       "      <th>0</th>\n",
       "      <td>linear</td>\n",
       "      <td>0.0027653</td>\n",
       "      <td>0.201193</td>\n",
       "      <td>-0.0609525</td>\n",
       "      <td>0.00506273</td>\n",
       "      <td>-0.00506273</td>\n",
       "      <td>-0.000120517</td>\n",
       "      <td>0.00691886</td>\n",
       "      <td>0.160369</td>\n",
       "      <td>-1.90873e-05</td>\n",
       "      <td>-3.41864e-11</td>\n",
       "    </tr>\n",
       "    <tr>\n",
       "      <th>1</th>\n",
       "      <td>lasso</td>\n",
       "      <td>0.00267682</td>\n",
       "      <td>0.20115</td>\n",
       "      <td>-0.060878</td>\n",
       "      <td>0.010023</td>\n",
       "      <td>-2.52592e-18</td>\n",
       "      <td>-0.000120848</td>\n",
       "      <td>0.00689843</td>\n",
       "      <td>0.158888</td>\n",
       "      <td>-1.9092e-05</td>\n",
       "      <td>-3.42742e-11</td>\n",
       "    </tr>\n",
       "    <tr>\n",
       "      <th>2</th>\n",
       "      <td>ridge</td>\n",
       "      <td>0.0027653</td>\n",
       "      <td>0.201193</td>\n",
       "      <td>-0.0609525</td>\n",
       "      <td>0.00506274</td>\n",
       "      <td>-0.00506272</td>\n",
       "      <td>-0.000120517</td>\n",
       "      <td>0.00691886</td>\n",
       "      <td>0.160369</td>\n",
       "      <td>-1.90873e-05</td>\n",
       "      <td>-3.41864e-11</td>\n",
       "    </tr>\n",
       "    <tr>\n",
       "      <th>3</th>\n",
       "      <td>linear_normilized</td>\n",
       "      <td>0.0027653</td>\n",
       "      <td>0.201193</td>\n",
       "      <td>-0.0609525</td>\n",
       "      <td>0.00506273</td>\n",
       "      <td>-0.00506273</td>\n",
       "      <td>-0.000120517</td>\n",
       "      <td>0.00691886</td>\n",
       "      <td>0.160369</td>\n",
       "      <td>-0.0958182</td>\n",
       "      <td>-0.0209684</td>\n",
       "    </tr>\n",
       "  </tbody>\n",
       "</table>\n",
       "</div>"
      ],
      "text/plain": [
       "          model_type    playoffs action_type_woe combined_shot_type_woe  \\\n",
       "0             linear   0.0027653        0.201193             -0.0609525   \n",
       "1              lasso  0.00267682         0.20115              -0.060878   \n",
       "2              ridge   0.0027653        0.201193             -0.0609525   \n",
       "3  linear_normilized   0.0027653        0.201193             -0.0609525   \n",
       "\n",
       "  shot_type_2PT Field Goal shot_type_3PT Field Goal     distance       angle  \\\n",
       "0               0.00506273              -0.00506273 -0.000120517  0.00691886   \n",
       "1                 0.010023             -2.52592e-18 -0.000120848  0.00689843   \n",
       "2               0.00506274              -0.00506272 -0.000120517  0.00691886   \n",
       "3               0.00506273              -0.00506273 -0.000120517  0.00691886   \n",
       "\n",
       "  opponent_woe seconds_from_match_start game_date_timestamp  \n",
       "0     0.160369             -1.90873e-05        -3.41864e-11  \n",
       "1     0.158888              -1.9092e-05        -3.42742e-11  \n",
       "2     0.160369             -1.90873e-05        -3.41864e-11  \n",
       "3     0.160369               -0.0958182          -0.0209684  "
      ]
     },
     "execution_count": 240,
     "metadata": {},
     "output_type": "execute_result"
    }
   ],
   "source": [
    "df.head()"
   ]
  },
  {
   "cell_type": "code",
   "execution_count": 242,
   "metadata": {},
   "outputs": [],
   "source": [
    "normalized_train_prediction = lin_reg.predict(normalized_vals_train)\n",
    "normalized_test_prediction = lin_reg.predict(normalized_vals_test)"
   ]
  },
  {
   "cell_type": "code",
   "execution_count": 243,
   "metadata": {},
   "outputs": [
    {
     "name": "stdout",
     "output_type": "stream",
     "text": [
      "AUC for train 0.68533\n",
      "AUC for test 0.6871\n"
     ]
    }
   ],
   "source": [
    "some_roc_auc_train = np.round(sk_metrics.roc_auc_score(train_shot_made_flag, normalized_train_prediction), 5)\n",
    "some_auc_test = np.round(sk_metrics.roc_auc_score(test_shot_made_flag, normalized_test_prediction), 5)\n",
    "\n",
    "print(f'AUC for train {some_roc_auc_train}')\n",
    "print(f'AUC for test {some_auc_test}')"
   ]
  },
  {
   "cell_type": "markdown",
   "metadata": {},
   "source": [
    "Как мы видим, на тренировочной выборке модель стала вести себя несколько лучше: 0.6871 против 0.68705"
   ]
  },
  {
   "cell_type": "markdown",
   "metadata": {},
   "source": [
    "Проверим, лучше ли отработает Lasso регрессия с учетом нормализации, так как ее тестовый roc_auc был лучшим - 0.6809"
   ]
  },
  {
   "cell_type": "code",
   "execution_count": 244,
   "metadata": {},
   "outputs": [
    {
     "data": {
      "text/plain": [
       "Lasso(alpha=1e-05, copy_X=True, fit_intercept=True, max_iter=1000,\n",
       "   normalize=False, positive=False, precompute=False, random_state=None,\n",
       "   selection='cyclic', tol=0.0001, warm_start=False)"
      ]
     },
     "execution_count": 244,
     "metadata": {},
     "output_type": "execute_result"
    }
   ],
   "source": [
    "lasso_alpha = 0.00001\n",
    "lassoreg = Lasso(alpha=linear_alpha)\n",
    "lassoreg.fit(normalized_vals_train, train_shot_made_flag)"
   ]
  },
  {
   "cell_type": "code",
   "execution_count": 245,
   "metadata": {},
   "outputs": [],
   "source": [
    "some_train_prediction = lassoreg.predict(normalized_vals_train)\n",
    "some_test_prediction = lassoreg.predict(normalized_vals_test)"
   ]
  },
  {
   "cell_type": "code",
   "execution_count": 246,
   "metadata": {},
   "outputs": [
    {
     "name": "stdout",
     "output_type": "stream",
     "text": [
      "AUC for train 0.68531\n",
      "AUC for test 0.68712\n"
     ]
    }
   ],
   "source": [
    "some_roc_auc_train = np.round(sk_metrics.roc_auc_score(train_shot_made_flag, some_train_prediction), 5)\n",
    "some_auc_test = np.round(sk_metrics.roc_auc_score(test_shot_made_flag, some_test_prediction), 5)\n",
    "\n",
    "print(f'AUC for train {some_roc_auc_train}')\n",
    "print(f'AUC for test {some_auc_test}')"
   ]
  },
  {
   "cell_type": "code",
   "execution_count": 263,
   "metadata": {},
   "outputs": [
    {
     "data": {
      "text/html": [
       "<div>\n",
       "<style scoped>\n",
       "    .dataframe tbody tr th:only-of-type {\n",
       "        vertical-align: middle;\n",
       "    }\n",
       "\n",
       "    .dataframe tbody tr th {\n",
       "        vertical-align: top;\n",
       "    }\n",
       "\n",
       "    .dataframe thead th {\n",
       "        text-align: right;\n",
       "    }\n",
       "</style>\n",
       "<table border=\"1\" class=\"dataframe\">\n",
       "  <thead>\n",
       "    <tr style=\"text-align: right;\">\n",
       "      <th></th>\n",
       "      <th>model_type</th>\n",
       "      <th>playoffs</th>\n",
       "      <th>action_type_woe</th>\n",
       "      <th>combined_shot_type_woe</th>\n",
       "      <th>shot_type_2PT Field Goal</th>\n",
       "      <th>shot_type_3PT Field Goal</th>\n",
       "      <th>distance</th>\n",
       "      <th>angle</th>\n",
       "      <th>opponent_woe</th>\n",
       "      <th>seconds_from_match_start</th>\n",
       "      <th>game_date_timestamp</th>\n",
       "    </tr>\n",
       "  </thead>\n",
       "  <tbody>\n",
       "    <tr>\n",
       "      <th>0</th>\n",
       "      <td>linear</td>\n",
       "      <td>0.0027653</td>\n",
       "      <td>0.201193</td>\n",
       "      <td>-0.0609525</td>\n",
       "      <td>0.00506273</td>\n",
       "      <td>-0.00506273</td>\n",
       "      <td>-0.000120517</td>\n",
       "      <td>0.00691886</td>\n",
       "      <td>0.160369</td>\n",
       "      <td>-1.90873e-05</td>\n",
       "      <td>-3.41864e-11</td>\n",
       "    </tr>\n",
       "    <tr>\n",
       "      <th>1</th>\n",
       "      <td>lasso</td>\n",
       "      <td>0.00267682</td>\n",
       "      <td>0.20115</td>\n",
       "      <td>-0.060878</td>\n",
       "      <td>0.010023</td>\n",
       "      <td>-2.52592e-18</td>\n",
       "      <td>-0.000120848</td>\n",
       "      <td>0.00689843</td>\n",
       "      <td>0.158888</td>\n",
       "      <td>-1.9092e-05</td>\n",
       "      <td>-3.42742e-11</td>\n",
       "    </tr>\n",
       "    <tr>\n",
       "      <th>2</th>\n",
       "      <td>ridge</td>\n",
       "      <td>0.0027653</td>\n",
       "      <td>0.201193</td>\n",
       "      <td>-0.0609525</td>\n",
       "      <td>0.00506274</td>\n",
       "      <td>-0.00506272</td>\n",
       "      <td>-0.000120517</td>\n",
       "      <td>0.00691886</td>\n",
       "      <td>0.160369</td>\n",
       "      <td>-1.90873e-05</td>\n",
       "      <td>-3.41864e-11</td>\n",
       "    </tr>\n",
       "    <tr>\n",
       "      <th>3</th>\n",
       "      <td>linear_normilized</td>\n",
       "      <td>0.0027653</td>\n",
       "      <td>0.201193</td>\n",
       "      <td>-0.0609525</td>\n",
       "      <td>0.00506273</td>\n",
       "      <td>-0.00506273</td>\n",
       "      <td>-0.000120517</td>\n",
       "      <td>0.00691886</td>\n",
       "      <td>0.160369</td>\n",
       "      <td>-0.0958182</td>\n",
       "      <td>-0.0209684</td>\n",
       "    </tr>\n",
       "    <tr>\n",
       "      <th>4</th>\n",
       "      <td>lasso_normalized</td>\n",
       "      <td>0.00268498</td>\n",
       "      <td>0.201143</td>\n",
       "      <td>-0.0608682</td>\n",
       "      <td>0.0100481</td>\n",
       "      <td>-1.18524e-17</td>\n",
       "      <td>-0.000120853</td>\n",
       "      <td>0.00690163</td>\n",
       "      <td>0.158946</td>\n",
       "      <td>-0.0954947</td>\n",
       "      <td>-0.0208462</td>\n",
       "    </tr>\n",
       "  </tbody>\n",
       "</table>\n",
       "</div>"
      ],
      "text/plain": [
       "          model_type    playoffs action_type_woe combined_shot_type_woe  \\\n",
       "0             linear   0.0027653        0.201193             -0.0609525   \n",
       "1              lasso  0.00267682         0.20115              -0.060878   \n",
       "2              ridge   0.0027653        0.201193             -0.0609525   \n",
       "3  linear_normilized   0.0027653        0.201193             -0.0609525   \n",
       "4   lasso_normalized  0.00268498        0.201143             -0.0608682   \n",
       "\n",
       "  shot_type_2PT Field Goal shot_type_3PT Field Goal     distance       angle  \\\n",
       "0               0.00506273              -0.00506273 -0.000120517  0.00691886   \n",
       "1                 0.010023             -2.52592e-18 -0.000120848  0.00689843   \n",
       "2               0.00506274              -0.00506272 -0.000120517  0.00691886   \n",
       "3               0.00506273              -0.00506273 -0.000120517  0.00691886   \n",
       "4                0.0100481             -1.18524e-17 -0.000120853  0.00690163   \n",
       "\n",
       "  opponent_woe seconds_from_match_start game_date_timestamp  \n",
       "0     0.160369             -1.90873e-05        -3.41864e-11  \n",
       "1     0.158888              -1.9092e-05        -3.42742e-11  \n",
       "2     0.160369             -1.90873e-05        -3.41864e-11  \n",
       "3     0.160369               -0.0958182          -0.0209684  \n",
       "4     0.158946               -0.0954947          -0.0208462  "
      ]
     },
     "execution_count": 263,
     "metadata": {},
     "output_type": "execute_result"
    }
   ],
   "source": [
    "df.loc[4, 'model_type'] = 'lasso_normalized'\n",
    "df.loc[4, 1:] = lassoreg.coef_\n",
    "df"
   ]
  },
  {
   "cell_type": "markdown",
   "metadata": {},
   "source": [
    "Ощутимого прироста мы не получили, 0.68712 против 0.6871.\n",
    "Попробуем в рамках эксперимента произвести forward feature selection"
   ]
  },
  {
   "cell_type": "code",
   "execution_count": 390,
   "metadata": {},
   "outputs": [
    {
     "name": "stdout",
     "output_type": "stream",
     "text": [
      "Selected columns: ['playoffs', 'action_type_woe', 'shot_type_2PT Field Goal', 'shot_type_3PT Field Goal', 'angle', 'opponent_woe', 'seconds_from_match_start', 'game_date_timestamp']\n",
      "Best roc_auc: 0.6910567463685393\n"
     ]
    }
   ],
   "source": [
    "cols = normalized_vals_train.columns.tolist()\n",
    "\n",
    "best = {'cols': [], 'roc_auc': 0}\n",
    "\n",
    "for col in cols:\n",
    "    best['cols'].append(col)\n",
    "\n",
    "    col_to_drop = set(cols) - set(best['cols'])\n",
    "\n",
    "    cleared_train_data = normalized_vals_train.drop(\n",
    "        columns=col_to_drop,\n",
    "        axis=1\n",
    "    )\n",
    "    cleared_test_data = normalized_vals_test.drop(\n",
    "        columns=col_to_drop,\n",
    "        axis=1\n",
    "    )\n",
    "\n",
    "    lasso_alpha = 0.00001\n",
    "    lassoreg = Lasso(alpha=linear_alpha)\n",
    "    lassoreg.fit(cleared_train_data, train_shot_made_flag)\n",
    "\n",
    "    cleared_train_prediction = lassoreg.predict(cleared_train_data)\n",
    "    cleared_test_prediction = lassoreg.predict(cleared_test_data)\n",
    "\n",
    "    cleared_roc_auc_train = sk_metrics.roc_auc_score(train_shot_made_flag, cleared_train_prediction)\n",
    "    cleared_auc_test = sk_metrics.roc_auc_score(test_shot_made_flag, cleared_test_prediction)\n",
    "\n",
    "    if (best['roc_auc'] > cleared_auc_test):\n",
    "        best['cols'].remove(col)\n",
    "    else:\n",
    "        best['roc_auc'] = cleared_auc_test\n",
    "\n",
    "\n",
    "print(f'Selected columns: {best[\"cols\"]}')\n",
    "print(f'Best roc_auc: {best[\"roc_auc\"]}')"
   ]
  },
  {
   "cell_type": "markdown",
   "metadata": {},
   "source": [
    "**Таким образом, мы добились улучшения roc_auc до $\\approx 0.69106$. Наша размерность сократилась до 8 фич.**\n",
    "Попробуем, так же в рамках эксперимента оставить следующие колонки (методом подбора):"
   ]
  },
  {
   "cell_type": "code",
   "execution_count": 394,
   "metadata": {},
   "outputs": [
    {
     "name": "stdout",
     "output_type": "stream",
     "text": [
      "AUC for train 0.6841834\n",
      "AUC for test 0.6913456\n"
     ]
    }
   ],
   "source": [
    "col_to_drop = [\n",
    "    'shot_type_2PT Field Goal',\n",
    "    'shot_type_3PT Field Goal',\n",
    "    'distance',\n",
    "    'angle',\n",
    "    'playoffs',\n",
    "    'opponent_woe'\n",
    "]\n",
    "\n",
    "cleared_train_data = normalized_vals_train.drop(\n",
    "    columns=col_to_drop,\n",
    "    axis=1\n",
    ")\n",
    "cleared_test_data = normalized_vals_test.drop(\n",
    "    columns=col_to_drop,\n",
    "    axis=1\n",
    ")\n",
    "\n",
    "lasso_alpha = 0.00001\n",
    "lassoreg = Lasso(alpha=linear_alpha)\n",
    "lassoreg.fit(cleared_train_data, train_shot_made_flag)\n",
    "\n",
    "cleared_train_prediction = lassoreg.predict(cleared_train_data)\n",
    "cleared_test_prediction = lassoreg.predict(cleared_test_data)\n",
    "\n",
    "cleared_roc_auc_train = np.round(sk_metrics.roc_auc_score(train_shot_made_flag, cleared_train_prediction), 7)\n",
    "cleared_auc_test = np.round(sk_metrics.roc_auc_score(test_shot_made_flag, cleared_test_prediction), 7)\n",
    "\n",
    "print(f'AUC for train {cleared_roc_auc_train}')\n",
    "print(f'AUC for test {cleared_auc_test}')"
   ]
  },
  {
   "cell_type": "code",
   "execution_count": 386,
   "metadata": {},
   "outputs": [
    {
     "data": {
      "image/png": "[encoded data removed]",
      "text/plain": [
       "<Figure size 720x720 with 1 Axes>"
      ]
     },
     "metadata": {
      "needs_background": "light"
     },
     "output_type": "display_data"
    }
   ],
   "source": [
    "draw_roc_auc(\n",
    "    train_actual_vals=train_shot_made_flag,\n",
    "    train_predictions=cleared_train_prediction,\n",
    "    test_actual_vals=test_shot_made_flag,\n",
    "    test_predictions=cleared_test_prediction,\n",
    "    model_name='Cleared and normalized data Lasso Regression'\n",
    ")"
   ]
  },
  {
   "cell_type": "code",
   "execution_count": 393,
   "metadata": {},
   "outputs": [
    {
     "data": {
      "text/plain": [
       "{'action_type_woe',\n",
       " 'combined_shot_type_woe',\n",
       " 'game_date_timestamp',\n",
       " 'seconds_from_match_start'}"
      ]
     },
     "execution_count": 393,
     "metadata": {},
     "output_type": "execute_result"
    }
   ],
   "source": [
    "set(normalized_vals_train.columns.tolist()) - set(col_to_drop)"
   ]
  },
  {
   "cell_type": "markdown",
   "metadata": {},
   "source": [
    "**Таким образом, нам удалось улучшить наш классификатор до показателя $\\approx$ 0.69135**\n",
    "\n",
    "А остались колонки:\n",
    "'action_type_woe',\n",
    "'combined_shot_type_woe',\n",
    "'game_date_timestamp',\n",
    "'seconds_from_match_start'\n",
    "\n",
    "Спасибо за внимание)"
   ]
  }
 ],
 "metadata": {
  "kernelspec": {
   "display_name": "Python 3",
   "language": "python",
   "name": "python3"
  },
  "language_info": {
   "codemirror_mode": {
    "name": "ipython",
    "version": 3
   },
   "file_extension": ".py",
   "mimetype": "text/x-python",
   "name": "python",
   "nbconvert_exporter": "python",
   "pygments_lexer": "ipython3",
   "version": "3.7.1"
  }
 },
 "nbformat": 4,
 "nbformat_minor": 2
}
